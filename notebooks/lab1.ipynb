{
 "cells": [
  {
   "cell_type": "code",
   "execution_count": 1,
   "metadata": {
    "id": "bErSgq-DPOf9"
   },
   "outputs": [],
   "source": [
    "%matplotlib inline\n",
    "import numpy as np\n",
    "import pandas as pd\n",
    "import matplotlib.pyplot as plt\n",
    "from matplotlib.ticker import StrMethodFormatter\n",
    "import scipy.stats\n",
    "import seaborn as sns\n",
    "from math import sqrt\n",
    "import scipy.stats"
   ]
  },
  {
   "cell_type": "markdown",
   "metadata": {
    "colab": {
     "base_uri": "https://localhost:8080/"
    },
    "id": "ryYrc7GjPLw1",
    "outputId": "c19b67a4-d752-4f5a-cd61-60b73684d3a0"
   },
   "source": [
    "**Problem of Probability Density Estimation**\n",
    "\n",
    "A common modeling problem involves how to estimate a joint probability distribution for a dataset.\n",
    "\n",
    "For example, given a sample of observation (X) from a domain (x1, x2, x3, …, xn), where each observation is drawn independently from the domain with the same probability distribution (so-called independent and identically distributed, i.i.d., or close to it).\n",
    "\n",
    "Density estimation involves selecting a probability distribution function and the parameters of that distribution that best explain the joint probability distribution of the observed data (X).\n",
    "\n",
    "* How do you choose the probability distribution function?\n",
    "* How do you choose the parameters for the probability distribution function?\n",
    "\n",
    "**Maximum Likelihood Estimation**\n",
    "involves treating the problem as an optimization or search problem, where we seek a set of parameters that results in the best fit for the joint probability of the data sample (X)."
   ]
  },
  {
   "cell_type": "markdown",
   "metadata": {
    "id": "SP6iQ30K9uh_"
   },
   "source": [
    "**Load data**"
   ]
  },
  {
   "cell_type": "code",
   "execution_count": 2,
   "metadata": {
    "colab": {
     "base_uri": "https://localhost:8080/",
     "height": 406
    },
    "id": "uN9BaxspOY9O",
    "outputId": "ffb6aaa0-aa47-4d3e-c79c-e9a9b55980f1"
   },
   "outputs": [
    {
     "data": {
      "text/html": [
       "<div>\n",
       "<style scoped>\n",
       "    .dataframe tbody tr th:only-of-type {\n",
       "        vertical-align: middle;\n",
       "    }\n",
       "\n",
       "    .dataframe tbody tr th {\n",
       "        vertical-align: top;\n",
       "    }\n",
       "\n",
       "    .dataframe thead th {\n",
       "        text-align: right;\n",
       "    }\n",
       "</style>\n",
       "<table border=\"1\" class=\"dataframe\">\n",
       "  <thead>\n",
       "    <tr style=\"text-align: right;\">\n",
       "      <th></th>\n",
       "      <th>city</th>\n",
       "      <th>year</th>\n",
       "      <th>weekofyear</th>\n",
       "      <th>week_start_date</th>\n",
       "      <th>ndvi_ne</th>\n",
       "      <th>ndvi_nw</th>\n",
       "      <th>ndvi_se</th>\n",
       "      <th>ndvi_sw</th>\n",
       "      <th>precipitation_amt_mm</th>\n",
       "      <th>reanalysis_air_temp_k</th>\n",
       "      <th>...</th>\n",
       "      <th>reanalysis_precip_amt_kg_per_m2</th>\n",
       "      <th>reanalysis_relative_humidity_percent</th>\n",
       "      <th>reanalysis_sat_precip_amt_mm</th>\n",
       "      <th>reanalysis_specific_humidity_g_per_kg</th>\n",
       "      <th>reanalysis_tdtr_k</th>\n",
       "      <th>station_avg_temp_c</th>\n",
       "      <th>station_diur_temp_rng_c</th>\n",
       "      <th>station_max_temp_c</th>\n",
       "      <th>station_min_temp_c</th>\n",
       "      <th>station_precip_mm</th>\n",
       "    </tr>\n",
       "  </thead>\n",
       "  <tbody>\n",
       "    <tr>\n",
       "      <th>0</th>\n",
       "      <td>sj</td>\n",
       "      <td>1990</td>\n",
       "      <td>18</td>\n",
       "      <td>1990-04-30</td>\n",
       "      <td>0.122600</td>\n",
       "      <td>0.103725</td>\n",
       "      <td>0.198483</td>\n",
       "      <td>0.177617</td>\n",
       "      <td>12.42</td>\n",
       "      <td>297.572857</td>\n",
       "      <td>...</td>\n",
       "      <td>32.00</td>\n",
       "      <td>73.365714</td>\n",
       "      <td>12.42</td>\n",
       "      <td>14.012857</td>\n",
       "      <td>2.628571</td>\n",
       "      <td>25.442857</td>\n",
       "      <td>6.900000</td>\n",
       "      <td>29.4</td>\n",
       "      <td>20.0</td>\n",
       "      <td>16.0</td>\n",
       "    </tr>\n",
       "    <tr>\n",
       "      <th>1</th>\n",
       "      <td>sj</td>\n",
       "      <td>1990</td>\n",
       "      <td>19</td>\n",
       "      <td>1990-05-07</td>\n",
       "      <td>0.169900</td>\n",
       "      <td>0.142175</td>\n",
       "      <td>0.162357</td>\n",
       "      <td>0.155486</td>\n",
       "      <td>22.82</td>\n",
       "      <td>298.211429</td>\n",
       "      <td>...</td>\n",
       "      <td>17.94</td>\n",
       "      <td>77.368571</td>\n",
       "      <td>22.82</td>\n",
       "      <td>15.372857</td>\n",
       "      <td>2.371429</td>\n",
       "      <td>26.714286</td>\n",
       "      <td>6.371429</td>\n",
       "      <td>31.7</td>\n",
       "      <td>22.2</td>\n",
       "      <td>8.6</td>\n",
       "    </tr>\n",
       "    <tr>\n",
       "      <th>2</th>\n",
       "      <td>sj</td>\n",
       "      <td>1990</td>\n",
       "      <td>20</td>\n",
       "      <td>1990-05-14</td>\n",
       "      <td>0.032250</td>\n",
       "      <td>0.172967</td>\n",
       "      <td>0.157200</td>\n",
       "      <td>0.170843</td>\n",
       "      <td>34.54</td>\n",
       "      <td>298.781429</td>\n",
       "      <td>...</td>\n",
       "      <td>26.10</td>\n",
       "      <td>82.052857</td>\n",
       "      <td>34.54</td>\n",
       "      <td>16.848571</td>\n",
       "      <td>2.300000</td>\n",
       "      <td>26.714286</td>\n",
       "      <td>6.485714</td>\n",
       "      <td>32.2</td>\n",
       "      <td>22.8</td>\n",
       "      <td>41.4</td>\n",
       "    </tr>\n",
       "    <tr>\n",
       "      <th>3</th>\n",
       "      <td>sj</td>\n",
       "      <td>1990</td>\n",
       "      <td>21</td>\n",
       "      <td>1990-05-21</td>\n",
       "      <td>0.128633</td>\n",
       "      <td>0.245067</td>\n",
       "      <td>0.227557</td>\n",
       "      <td>0.235886</td>\n",
       "      <td>15.36</td>\n",
       "      <td>298.987143</td>\n",
       "      <td>...</td>\n",
       "      <td>13.90</td>\n",
       "      <td>80.337143</td>\n",
       "      <td>15.36</td>\n",
       "      <td>16.672857</td>\n",
       "      <td>2.428571</td>\n",
       "      <td>27.471429</td>\n",
       "      <td>6.771429</td>\n",
       "      <td>33.3</td>\n",
       "      <td>23.3</td>\n",
       "      <td>4.0</td>\n",
       "    </tr>\n",
       "    <tr>\n",
       "      <th>4</th>\n",
       "      <td>sj</td>\n",
       "      <td>1990</td>\n",
       "      <td>22</td>\n",
       "      <td>1990-05-28</td>\n",
       "      <td>0.196200</td>\n",
       "      <td>0.262200</td>\n",
       "      <td>0.251200</td>\n",
       "      <td>0.247340</td>\n",
       "      <td>7.52</td>\n",
       "      <td>299.518571</td>\n",
       "      <td>...</td>\n",
       "      <td>12.20</td>\n",
       "      <td>80.460000</td>\n",
       "      <td>7.52</td>\n",
       "      <td>17.210000</td>\n",
       "      <td>3.014286</td>\n",
       "      <td>28.942857</td>\n",
       "      <td>9.371429</td>\n",
       "      <td>35.0</td>\n",
       "      <td>23.9</td>\n",
       "      <td>5.8</td>\n",
       "    </tr>\n",
       "    <tr>\n",
       "      <th>...</th>\n",
       "      <td>...</td>\n",
       "      <td>...</td>\n",
       "      <td>...</td>\n",
       "      <td>...</td>\n",
       "      <td>...</td>\n",
       "      <td>...</td>\n",
       "      <td>...</td>\n",
       "      <td>...</td>\n",
       "      <td>...</td>\n",
       "      <td>...</td>\n",
       "      <td>...</td>\n",
       "      <td>...</td>\n",
       "      <td>...</td>\n",
       "      <td>...</td>\n",
       "      <td>...</td>\n",
       "      <td>...</td>\n",
       "      <td>...</td>\n",
       "      <td>...</td>\n",
       "      <td>...</td>\n",
       "      <td>...</td>\n",
       "      <td>...</td>\n",
       "    </tr>\n",
       "    <tr>\n",
       "      <th>1451</th>\n",
       "      <td>iq</td>\n",
       "      <td>2010</td>\n",
       "      <td>21</td>\n",
       "      <td>2010-05-28</td>\n",
       "      <td>0.342750</td>\n",
       "      <td>0.318900</td>\n",
       "      <td>0.256343</td>\n",
       "      <td>0.292514</td>\n",
       "      <td>55.30</td>\n",
       "      <td>299.334286</td>\n",
       "      <td>...</td>\n",
       "      <td>45.00</td>\n",
       "      <td>88.765714</td>\n",
       "      <td>55.30</td>\n",
       "      <td>18.485714</td>\n",
       "      <td>9.800000</td>\n",
       "      <td>28.633333</td>\n",
       "      <td>11.933333</td>\n",
       "      <td>35.4</td>\n",
       "      <td>22.4</td>\n",
       "      <td>27.0</td>\n",
       "    </tr>\n",
       "    <tr>\n",
       "      <th>1452</th>\n",
       "      <td>iq</td>\n",
       "      <td>2010</td>\n",
       "      <td>22</td>\n",
       "      <td>2010-06-04</td>\n",
       "      <td>0.160157</td>\n",
       "      <td>0.160371</td>\n",
       "      <td>0.136043</td>\n",
       "      <td>0.225657</td>\n",
       "      <td>86.47</td>\n",
       "      <td>298.330000</td>\n",
       "      <td>...</td>\n",
       "      <td>207.10</td>\n",
       "      <td>91.600000</td>\n",
       "      <td>86.47</td>\n",
       "      <td>18.070000</td>\n",
       "      <td>7.471429</td>\n",
       "      <td>27.433333</td>\n",
       "      <td>10.500000</td>\n",
       "      <td>34.7</td>\n",
       "      <td>21.7</td>\n",
       "      <td>36.6</td>\n",
       "    </tr>\n",
       "    <tr>\n",
       "      <th>1453</th>\n",
       "      <td>iq</td>\n",
       "      <td>2010</td>\n",
       "      <td>23</td>\n",
       "      <td>2010-06-11</td>\n",
       "      <td>0.247057</td>\n",
       "      <td>0.146057</td>\n",
       "      <td>0.250357</td>\n",
       "      <td>0.233714</td>\n",
       "      <td>58.94</td>\n",
       "      <td>296.598571</td>\n",
       "      <td>...</td>\n",
       "      <td>50.60</td>\n",
       "      <td>94.280000</td>\n",
       "      <td>58.94</td>\n",
       "      <td>17.008571</td>\n",
       "      <td>7.500000</td>\n",
       "      <td>24.400000</td>\n",
       "      <td>6.900000</td>\n",
       "      <td>32.2</td>\n",
       "      <td>19.2</td>\n",
       "      <td>7.4</td>\n",
       "    </tr>\n",
       "    <tr>\n",
       "      <th>1454</th>\n",
       "      <td>iq</td>\n",
       "      <td>2010</td>\n",
       "      <td>24</td>\n",
       "      <td>2010-06-18</td>\n",
       "      <td>0.333914</td>\n",
       "      <td>0.245771</td>\n",
       "      <td>0.278886</td>\n",
       "      <td>0.325486</td>\n",
       "      <td>59.67</td>\n",
       "      <td>296.345714</td>\n",
       "      <td>...</td>\n",
       "      <td>62.33</td>\n",
       "      <td>94.660000</td>\n",
       "      <td>59.67</td>\n",
       "      <td>16.815714</td>\n",
       "      <td>7.871429</td>\n",
       "      <td>25.433333</td>\n",
       "      <td>8.733333</td>\n",
       "      <td>31.2</td>\n",
       "      <td>21.0</td>\n",
       "      <td>16.0</td>\n",
       "    </tr>\n",
       "    <tr>\n",
       "      <th>1455</th>\n",
       "      <td>iq</td>\n",
       "      <td>2010</td>\n",
       "      <td>25</td>\n",
       "      <td>2010-06-25</td>\n",
       "      <td>0.298186</td>\n",
       "      <td>0.232971</td>\n",
       "      <td>0.274214</td>\n",
       "      <td>0.315757</td>\n",
       "      <td>63.22</td>\n",
       "      <td>298.097143</td>\n",
       "      <td>...</td>\n",
       "      <td>36.90</td>\n",
       "      <td>89.082857</td>\n",
       "      <td>63.22</td>\n",
       "      <td>17.355714</td>\n",
       "      <td>11.014286</td>\n",
       "      <td>27.475000</td>\n",
       "      <td>9.900000</td>\n",
       "      <td>33.7</td>\n",
       "      <td>22.2</td>\n",
       "      <td>20.4</td>\n",
       "    </tr>\n",
       "  </tbody>\n",
       "</table>\n",
       "<p>1456 rows × 24 columns</p>\n",
       "</div>"
      ],
      "text/plain": [
       "     city  year  weekofyear week_start_date   ndvi_ne   ndvi_nw   ndvi_se  \\\n",
       "0      sj  1990          18      1990-04-30  0.122600  0.103725  0.198483   \n",
       "1      sj  1990          19      1990-05-07  0.169900  0.142175  0.162357   \n",
       "2      sj  1990          20      1990-05-14  0.032250  0.172967  0.157200   \n",
       "3      sj  1990          21      1990-05-21  0.128633  0.245067  0.227557   \n",
       "4      sj  1990          22      1990-05-28  0.196200  0.262200  0.251200   \n",
       "...   ...   ...         ...             ...       ...       ...       ...   \n",
       "1451   iq  2010          21      2010-05-28  0.342750  0.318900  0.256343   \n",
       "1452   iq  2010          22      2010-06-04  0.160157  0.160371  0.136043   \n",
       "1453   iq  2010          23      2010-06-11  0.247057  0.146057  0.250357   \n",
       "1454   iq  2010          24      2010-06-18  0.333914  0.245771  0.278886   \n",
       "1455   iq  2010          25      2010-06-25  0.298186  0.232971  0.274214   \n",
       "\n",
       "       ndvi_sw  precipitation_amt_mm  reanalysis_air_temp_k  ...  \\\n",
       "0     0.177617                 12.42             297.572857  ...   \n",
       "1     0.155486                 22.82             298.211429  ...   \n",
       "2     0.170843                 34.54             298.781429  ...   \n",
       "3     0.235886                 15.36             298.987143  ...   \n",
       "4     0.247340                  7.52             299.518571  ...   \n",
       "...        ...                   ...                    ...  ...   \n",
       "1451  0.292514                 55.30             299.334286  ...   \n",
       "1452  0.225657                 86.47             298.330000  ...   \n",
       "1453  0.233714                 58.94             296.598571  ...   \n",
       "1454  0.325486                 59.67             296.345714  ...   \n",
       "1455  0.315757                 63.22             298.097143  ...   \n",
       "\n",
       "      reanalysis_precip_amt_kg_per_m2  reanalysis_relative_humidity_percent  \\\n",
       "0                               32.00                             73.365714   \n",
       "1                               17.94                             77.368571   \n",
       "2                               26.10                             82.052857   \n",
       "3                               13.90                             80.337143   \n",
       "4                               12.20                             80.460000   \n",
       "...                               ...                                   ...   \n",
       "1451                            45.00                             88.765714   \n",
       "1452                           207.10                             91.600000   \n",
       "1453                            50.60                             94.280000   \n",
       "1454                            62.33                             94.660000   \n",
       "1455                            36.90                             89.082857   \n",
       "\n",
       "      reanalysis_sat_precip_amt_mm  reanalysis_specific_humidity_g_per_kg  \\\n",
       "0                            12.42                              14.012857   \n",
       "1                            22.82                              15.372857   \n",
       "2                            34.54                              16.848571   \n",
       "3                            15.36                              16.672857   \n",
       "4                             7.52                              17.210000   \n",
       "...                            ...                                    ...   \n",
       "1451                         55.30                              18.485714   \n",
       "1452                         86.47                              18.070000   \n",
       "1453                         58.94                              17.008571   \n",
       "1454                         59.67                              16.815714   \n",
       "1455                         63.22                              17.355714   \n",
       "\n",
       "      reanalysis_tdtr_k  station_avg_temp_c  station_diur_temp_rng_c  \\\n",
       "0              2.628571           25.442857                 6.900000   \n",
       "1              2.371429           26.714286                 6.371429   \n",
       "2              2.300000           26.714286                 6.485714   \n",
       "3              2.428571           27.471429                 6.771429   \n",
       "4              3.014286           28.942857                 9.371429   \n",
       "...                 ...                 ...                      ...   \n",
       "1451           9.800000           28.633333                11.933333   \n",
       "1452           7.471429           27.433333                10.500000   \n",
       "1453           7.500000           24.400000                 6.900000   \n",
       "1454           7.871429           25.433333                 8.733333   \n",
       "1455          11.014286           27.475000                 9.900000   \n",
       "\n",
       "      station_max_temp_c  station_min_temp_c  station_precip_mm  \n",
       "0                   29.4                20.0               16.0  \n",
       "1                   31.7                22.2                8.6  \n",
       "2                   32.2                22.8               41.4  \n",
       "3                   33.3                23.3                4.0  \n",
       "4                   35.0                23.9                5.8  \n",
       "...                  ...                 ...                ...  \n",
       "1451                35.4                22.4               27.0  \n",
       "1452                34.7                21.7               36.6  \n",
       "1453                32.2                19.2                7.4  \n",
       "1454                31.2                21.0               16.0  \n",
       "1455                33.7                22.2               20.4  \n",
       "\n",
       "[1456 rows x 24 columns]"
      ]
     },
     "execution_count": 2,
     "metadata": {},
     "output_type": "execute_result"
    }
   ],
   "source": [
    "df = pd.read_csv(\"./data/dengue_features_train.csv\")\n",
    "df_labels = pd.read_csv(\"./data/dengue_labels_train.csv\")\n",
    "\n",
    "df"
   ]
  },
  {
   "cell_type": "code",
   "execution_count": 3,
   "metadata": {},
   "outputs": [],
   "source": [
    "import pandas as pd\n",
    "\n",
    "def clean_dataset(df):\n",
    "    assert isinstance(df, pd.DataFrame), \"df needs to be a pd.DataFrame\"\n",
    "    df.dropna(inplace=True)\n",
    "    indices_to_keep = ~df.isin([np.nan, np.inf, -np.inf]).any(1)\n",
    "    return df[indices_to_keep].astype(np.float64)"
   ]
  },
  {
   "cell_type": "code",
   "execution_count": 4,
   "metadata": {},
   "outputs": [
    {
     "data": {
      "text/plain": [
       "Index(['city', 'year', 'weekofyear', 'week_start_date', 'ndvi_ne', 'ndvi_nw',\n",
       "       'ndvi_se', 'ndvi_sw', 'precipitation_amt_mm', 'reanalysis_air_temp_k',\n",
       "       'reanalysis_avg_temp_k', 'reanalysis_dew_point_temp_k',\n",
       "       'reanalysis_max_air_temp_k', 'reanalysis_min_air_temp_k',\n",
       "       'reanalysis_precip_amt_kg_per_m2',\n",
       "       'reanalysis_relative_humidity_percent', 'reanalysis_sat_precip_amt_mm',\n",
       "       'reanalysis_specific_humidity_g_per_kg', 'reanalysis_tdtr_k',\n",
       "       'station_avg_temp_c', 'station_diur_temp_rng_c', 'station_max_temp_c',\n",
       "       'station_min_temp_c', 'station_precip_mm'],\n",
       "      dtype='object')"
      ]
     },
     "execution_count": 4,
     "metadata": {},
     "output_type": "execute_result"
    }
   ],
   "source": [
    "df.columns"
   ]
  },
  {
   "cell_type": "code",
   "execution_count": 5,
   "metadata": {},
   "outputs": [
    {
     "data": {
      "text/plain": [
       "city                                      object\n",
       "year                                       int64\n",
       "weekofyear                                 int64\n",
       "week_start_date                           object\n",
       "ndvi_ne                                  float64\n",
       "ndvi_nw                                  float64\n",
       "ndvi_se                                  float64\n",
       "ndvi_sw                                  float64\n",
       "precipitation_amt_mm                     float64\n",
       "reanalysis_air_temp_k                    float64\n",
       "reanalysis_avg_temp_k                    float64\n",
       "reanalysis_dew_point_temp_k              float64\n",
       "reanalysis_max_air_temp_k                float64\n",
       "reanalysis_min_air_temp_k                float64\n",
       "reanalysis_precip_amt_kg_per_m2          float64\n",
       "reanalysis_relative_humidity_percent     float64\n",
       "reanalysis_sat_precip_amt_mm             float64\n",
       "reanalysis_specific_humidity_g_per_kg    float64\n",
       "reanalysis_tdtr_k                        float64\n",
       "station_avg_temp_c                       float64\n",
       "station_diur_temp_rng_c                  float64\n",
       "station_max_temp_c                       float64\n",
       "station_min_temp_c                       float64\n",
       "station_precip_mm                        float64\n",
       "dtype: object"
      ]
     },
     "execution_count": 5,
     "metadata": {},
     "output_type": "execute_result"
    }
   ],
   "source": [
    "df.dtypes"
   ]
  },
  {
   "cell_type": "code",
   "execution_count": 6,
   "metadata": {},
   "outputs": [
    {
     "data": {
      "text/html": [
       "<div>\n",
       "<style scoped>\n",
       "    .dataframe tbody tr th:only-of-type {\n",
       "        vertical-align: middle;\n",
       "    }\n",
       "\n",
       "    .dataframe tbody tr th {\n",
       "        vertical-align: top;\n",
       "    }\n",
       "\n",
       "    .dataframe thead th {\n",
       "        text-align: right;\n",
       "    }\n",
       "</style>\n",
       "<table border=\"1\" class=\"dataframe\">\n",
       "  <thead>\n",
       "    <tr style=\"text-align: right;\">\n",
       "      <th></th>\n",
       "      <th>year</th>\n",
       "      <th>weekofyear</th>\n",
       "      <th>ndvi_ne</th>\n",
       "      <th>ndvi_nw</th>\n",
       "      <th>ndvi_se</th>\n",
       "      <th>ndvi_sw</th>\n",
       "      <th>precipitation_amt_mm</th>\n",
       "      <th>reanalysis_air_temp_k</th>\n",
       "      <th>reanalysis_avg_temp_k</th>\n",
       "      <th>reanalysis_dew_point_temp_k</th>\n",
       "      <th>...</th>\n",
       "      <th>reanalysis_precip_amt_kg_per_m2</th>\n",
       "      <th>reanalysis_relative_humidity_percent</th>\n",
       "      <th>reanalysis_sat_precip_amt_mm</th>\n",
       "      <th>reanalysis_specific_humidity_g_per_kg</th>\n",
       "      <th>reanalysis_tdtr_k</th>\n",
       "      <th>station_avg_temp_c</th>\n",
       "      <th>station_diur_temp_rng_c</th>\n",
       "      <th>station_max_temp_c</th>\n",
       "      <th>station_min_temp_c</th>\n",
       "      <th>station_precip_mm</th>\n",
       "    </tr>\n",
       "  </thead>\n",
       "  <tbody>\n",
       "    <tr>\n",
       "      <th>0</th>\n",
       "      <td>1990</td>\n",
       "      <td>18</td>\n",
       "      <td>0.122600</td>\n",
       "      <td>0.103725</td>\n",
       "      <td>0.198483</td>\n",
       "      <td>0.177617</td>\n",
       "      <td>12.42</td>\n",
       "      <td>297.572857</td>\n",
       "      <td>297.742857</td>\n",
       "      <td>292.414286</td>\n",
       "      <td>...</td>\n",
       "      <td>32.00</td>\n",
       "      <td>73.365714</td>\n",
       "      <td>12.42</td>\n",
       "      <td>14.012857</td>\n",
       "      <td>2.628571</td>\n",
       "      <td>25.442857</td>\n",
       "      <td>6.900000</td>\n",
       "      <td>29.4</td>\n",
       "      <td>20.0</td>\n",
       "      <td>16.0</td>\n",
       "    </tr>\n",
       "    <tr>\n",
       "      <th>1</th>\n",
       "      <td>1990</td>\n",
       "      <td>19</td>\n",
       "      <td>0.169900</td>\n",
       "      <td>0.142175</td>\n",
       "      <td>0.162357</td>\n",
       "      <td>0.155486</td>\n",
       "      <td>22.82</td>\n",
       "      <td>298.211429</td>\n",
       "      <td>298.442857</td>\n",
       "      <td>293.951429</td>\n",
       "      <td>...</td>\n",
       "      <td>17.94</td>\n",
       "      <td>77.368571</td>\n",
       "      <td>22.82</td>\n",
       "      <td>15.372857</td>\n",
       "      <td>2.371429</td>\n",
       "      <td>26.714286</td>\n",
       "      <td>6.371429</td>\n",
       "      <td>31.7</td>\n",
       "      <td>22.2</td>\n",
       "      <td>8.6</td>\n",
       "    </tr>\n",
       "    <tr>\n",
       "      <th>2</th>\n",
       "      <td>1990</td>\n",
       "      <td>20</td>\n",
       "      <td>0.032250</td>\n",
       "      <td>0.172967</td>\n",
       "      <td>0.157200</td>\n",
       "      <td>0.170843</td>\n",
       "      <td>34.54</td>\n",
       "      <td>298.781429</td>\n",
       "      <td>298.878571</td>\n",
       "      <td>295.434286</td>\n",
       "      <td>...</td>\n",
       "      <td>26.10</td>\n",
       "      <td>82.052857</td>\n",
       "      <td>34.54</td>\n",
       "      <td>16.848571</td>\n",
       "      <td>2.300000</td>\n",
       "      <td>26.714286</td>\n",
       "      <td>6.485714</td>\n",
       "      <td>32.2</td>\n",
       "      <td>22.8</td>\n",
       "      <td>41.4</td>\n",
       "    </tr>\n",
       "    <tr>\n",
       "      <th>3</th>\n",
       "      <td>1990</td>\n",
       "      <td>21</td>\n",
       "      <td>0.128633</td>\n",
       "      <td>0.245067</td>\n",
       "      <td>0.227557</td>\n",
       "      <td>0.235886</td>\n",
       "      <td>15.36</td>\n",
       "      <td>298.987143</td>\n",
       "      <td>299.228571</td>\n",
       "      <td>295.310000</td>\n",
       "      <td>...</td>\n",
       "      <td>13.90</td>\n",
       "      <td>80.337143</td>\n",
       "      <td>15.36</td>\n",
       "      <td>16.672857</td>\n",
       "      <td>2.428571</td>\n",
       "      <td>27.471429</td>\n",
       "      <td>6.771429</td>\n",
       "      <td>33.3</td>\n",
       "      <td>23.3</td>\n",
       "      <td>4.0</td>\n",
       "    </tr>\n",
       "    <tr>\n",
       "      <th>4</th>\n",
       "      <td>1990</td>\n",
       "      <td>22</td>\n",
       "      <td>0.196200</td>\n",
       "      <td>0.262200</td>\n",
       "      <td>0.251200</td>\n",
       "      <td>0.247340</td>\n",
       "      <td>7.52</td>\n",
       "      <td>299.518571</td>\n",
       "      <td>299.664286</td>\n",
       "      <td>295.821429</td>\n",
       "      <td>...</td>\n",
       "      <td>12.20</td>\n",
       "      <td>80.460000</td>\n",
       "      <td>7.52</td>\n",
       "      <td>17.210000</td>\n",
       "      <td>3.014286</td>\n",
       "      <td>28.942857</td>\n",
       "      <td>9.371429</td>\n",
       "      <td>35.0</td>\n",
       "      <td>23.9</td>\n",
       "      <td>5.8</td>\n",
       "    </tr>\n",
       "    <tr>\n",
       "      <th>...</th>\n",
       "      <td>...</td>\n",
       "      <td>...</td>\n",
       "      <td>...</td>\n",
       "      <td>...</td>\n",
       "      <td>...</td>\n",
       "      <td>...</td>\n",
       "      <td>...</td>\n",
       "      <td>...</td>\n",
       "      <td>...</td>\n",
       "      <td>...</td>\n",
       "      <td>...</td>\n",
       "      <td>...</td>\n",
       "      <td>...</td>\n",
       "      <td>...</td>\n",
       "      <td>...</td>\n",
       "      <td>...</td>\n",
       "      <td>...</td>\n",
       "      <td>...</td>\n",
       "      <td>...</td>\n",
       "      <td>...</td>\n",
       "      <td>...</td>\n",
       "    </tr>\n",
       "    <tr>\n",
       "      <th>1451</th>\n",
       "      <td>2010</td>\n",
       "      <td>21</td>\n",
       "      <td>0.342750</td>\n",
       "      <td>0.318900</td>\n",
       "      <td>0.256343</td>\n",
       "      <td>0.292514</td>\n",
       "      <td>55.30</td>\n",
       "      <td>299.334286</td>\n",
       "      <td>300.771429</td>\n",
       "      <td>296.825714</td>\n",
       "      <td>...</td>\n",
       "      <td>45.00</td>\n",
       "      <td>88.765714</td>\n",
       "      <td>55.30</td>\n",
       "      <td>18.485714</td>\n",
       "      <td>9.800000</td>\n",
       "      <td>28.633333</td>\n",
       "      <td>11.933333</td>\n",
       "      <td>35.4</td>\n",
       "      <td>22.4</td>\n",
       "      <td>27.0</td>\n",
       "    </tr>\n",
       "    <tr>\n",
       "      <th>1452</th>\n",
       "      <td>2010</td>\n",
       "      <td>22</td>\n",
       "      <td>0.160157</td>\n",
       "      <td>0.160371</td>\n",
       "      <td>0.136043</td>\n",
       "      <td>0.225657</td>\n",
       "      <td>86.47</td>\n",
       "      <td>298.330000</td>\n",
       "      <td>299.392857</td>\n",
       "      <td>296.452857</td>\n",
       "      <td>...</td>\n",
       "      <td>207.10</td>\n",
       "      <td>91.600000</td>\n",
       "      <td>86.47</td>\n",
       "      <td>18.070000</td>\n",
       "      <td>7.471429</td>\n",
       "      <td>27.433333</td>\n",
       "      <td>10.500000</td>\n",
       "      <td>34.7</td>\n",
       "      <td>21.7</td>\n",
       "      <td>36.6</td>\n",
       "    </tr>\n",
       "    <tr>\n",
       "      <th>1453</th>\n",
       "      <td>2010</td>\n",
       "      <td>23</td>\n",
       "      <td>0.247057</td>\n",
       "      <td>0.146057</td>\n",
       "      <td>0.250357</td>\n",
       "      <td>0.233714</td>\n",
       "      <td>58.94</td>\n",
       "      <td>296.598571</td>\n",
       "      <td>297.592857</td>\n",
       "      <td>295.501429</td>\n",
       "      <td>...</td>\n",
       "      <td>50.60</td>\n",
       "      <td>94.280000</td>\n",
       "      <td>58.94</td>\n",
       "      <td>17.008571</td>\n",
       "      <td>7.500000</td>\n",
       "      <td>24.400000</td>\n",
       "      <td>6.900000</td>\n",
       "      <td>32.2</td>\n",
       "      <td>19.2</td>\n",
       "      <td>7.4</td>\n",
       "    </tr>\n",
       "    <tr>\n",
       "      <th>1454</th>\n",
       "      <td>2010</td>\n",
       "      <td>24</td>\n",
       "      <td>0.333914</td>\n",
       "      <td>0.245771</td>\n",
       "      <td>0.278886</td>\n",
       "      <td>0.325486</td>\n",
       "      <td>59.67</td>\n",
       "      <td>296.345714</td>\n",
       "      <td>297.521429</td>\n",
       "      <td>295.324286</td>\n",
       "      <td>...</td>\n",
       "      <td>62.33</td>\n",
       "      <td>94.660000</td>\n",
       "      <td>59.67</td>\n",
       "      <td>16.815714</td>\n",
       "      <td>7.871429</td>\n",
       "      <td>25.433333</td>\n",
       "      <td>8.733333</td>\n",
       "      <td>31.2</td>\n",
       "      <td>21.0</td>\n",
       "      <td>16.0</td>\n",
       "    </tr>\n",
       "    <tr>\n",
       "      <th>1455</th>\n",
       "      <td>2010</td>\n",
       "      <td>25</td>\n",
       "      <td>0.298186</td>\n",
       "      <td>0.232971</td>\n",
       "      <td>0.274214</td>\n",
       "      <td>0.315757</td>\n",
       "      <td>63.22</td>\n",
       "      <td>298.097143</td>\n",
       "      <td>299.835714</td>\n",
       "      <td>295.807143</td>\n",
       "      <td>...</td>\n",
       "      <td>36.90</td>\n",
       "      <td>89.082857</td>\n",
       "      <td>63.22</td>\n",
       "      <td>17.355714</td>\n",
       "      <td>11.014286</td>\n",
       "      <td>27.475000</td>\n",
       "      <td>9.900000</td>\n",
       "      <td>33.7</td>\n",
       "      <td>22.2</td>\n",
       "      <td>20.4</td>\n",
       "    </tr>\n",
       "  </tbody>\n",
       "</table>\n",
       "<p>1456 rows × 22 columns</p>\n",
       "</div>"
      ],
      "text/plain": [
       "      year  weekofyear   ndvi_ne   ndvi_nw   ndvi_se   ndvi_sw  \\\n",
       "0     1990          18  0.122600  0.103725  0.198483  0.177617   \n",
       "1     1990          19  0.169900  0.142175  0.162357  0.155486   \n",
       "2     1990          20  0.032250  0.172967  0.157200  0.170843   \n",
       "3     1990          21  0.128633  0.245067  0.227557  0.235886   \n",
       "4     1990          22  0.196200  0.262200  0.251200  0.247340   \n",
       "...    ...         ...       ...       ...       ...       ...   \n",
       "1451  2010          21  0.342750  0.318900  0.256343  0.292514   \n",
       "1452  2010          22  0.160157  0.160371  0.136043  0.225657   \n",
       "1453  2010          23  0.247057  0.146057  0.250357  0.233714   \n",
       "1454  2010          24  0.333914  0.245771  0.278886  0.325486   \n",
       "1455  2010          25  0.298186  0.232971  0.274214  0.315757   \n",
       "\n",
       "      precipitation_amt_mm  reanalysis_air_temp_k  reanalysis_avg_temp_k  \\\n",
       "0                    12.42             297.572857             297.742857   \n",
       "1                    22.82             298.211429             298.442857   \n",
       "2                    34.54             298.781429             298.878571   \n",
       "3                    15.36             298.987143             299.228571   \n",
       "4                     7.52             299.518571             299.664286   \n",
       "...                    ...                    ...                    ...   \n",
       "1451                 55.30             299.334286             300.771429   \n",
       "1452                 86.47             298.330000             299.392857   \n",
       "1453                 58.94             296.598571             297.592857   \n",
       "1454                 59.67             296.345714             297.521429   \n",
       "1455                 63.22             298.097143             299.835714   \n",
       "\n",
       "      reanalysis_dew_point_temp_k  ...  reanalysis_precip_amt_kg_per_m2  \\\n",
       "0                      292.414286  ...                            32.00   \n",
       "1                      293.951429  ...                            17.94   \n",
       "2                      295.434286  ...                            26.10   \n",
       "3                      295.310000  ...                            13.90   \n",
       "4                      295.821429  ...                            12.20   \n",
       "...                           ...  ...                              ...   \n",
       "1451                   296.825714  ...                            45.00   \n",
       "1452                   296.452857  ...                           207.10   \n",
       "1453                   295.501429  ...                            50.60   \n",
       "1454                   295.324286  ...                            62.33   \n",
       "1455                   295.807143  ...                            36.90   \n",
       "\n",
       "      reanalysis_relative_humidity_percent  reanalysis_sat_precip_amt_mm  \\\n",
       "0                                73.365714                         12.42   \n",
       "1                                77.368571                         22.82   \n",
       "2                                82.052857                         34.54   \n",
       "3                                80.337143                         15.36   \n",
       "4                                80.460000                          7.52   \n",
       "...                                    ...                           ...   \n",
       "1451                             88.765714                         55.30   \n",
       "1452                             91.600000                         86.47   \n",
       "1453                             94.280000                         58.94   \n",
       "1454                             94.660000                         59.67   \n",
       "1455                             89.082857                         63.22   \n",
       "\n",
       "      reanalysis_specific_humidity_g_per_kg  reanalysis_tdtr_k  \\\n",
       "0                                 14.012857           2.628571   \n",
       "1                                 15.372857           2.371429   \n",
       "2                                 16.848571           2.300000   \n",
       "3                                 16.672857           2.428571   \n",
       "4                                 17.210000           3.014286   \n",
       "...                                     ...                ...   \n",
       "1451                              18.485714           9.800000   \n",
       "1452                              18.070000           7.471429   \n",
       "1453                              17.008571           7.500000   \n",
       "1454                              16.815714           7.871429   \n",
       "1455                              17.355714          11.014286   \n",
       "\n",
       "      station_avg_temp_c  station_diur_temp_rng_c  station_max_temp_c  \\\n",
       "0              25.442857                 6.900000                29.4   \n",
       "1              26.714286                 6.371429                31.7   \n",
       "2              26.714286                 6.485714                32.2   \n",
       "3              27.471429                 6.771429                33.3   \n",
       "4              28.942857                 9.371429                35.0   \n",
       "...                  ...                      ...                 ...   \n",
       "1451           28.633333                11.933333                35.4   \n",
       "1452           27.433333                10.500000                34.7   \n",
       "1453           24.400000                 6.900000                32.2   \n",
       "1454           25.433333                 8.733333                31.2   \n",
       "1455           27.475000                 9.900000                33.7   \n",
       "\n",
       "      station_min_temp_c  station_precip_mm  \n",
       "0                   20.0               16.0  \n",
       "1                   22.2                8.6  \n",
       "2                   22.8               41.4  \n",
       "3                   23.3                4.0  \n",
       "4                   23.9                5.8  \n",
       "...                  ...                ...  \n",
       "1451                22.4               27.0  \n",
       "1452                21.7               36.6  \n",
       "1453                19.2                7.4  \n",
       "1454                21.0               16.0  \n",
       "1455                22.2               20.4  \n",
       "\n",
       "[1456 rows x 22 columns]"
      ]
     },
     "execution_count": 6,
     "metadata": {},
     "output_type": "execute_result"
    }
   ],
   "source": [
    "numeric_features = ['year', 'weekofyear', 'ndvi_ne', 'ndvi_nw',\n",
    "       'ndvi_se', 'ndvi_sw', 'precipitation_amt_mm', 'reanalysis_air_temp_k',\n",
    "       'reanalysis_avg_temp_k', 'reanalysis_dew_point_temp_k',\n",
    "       'reanalysis_max_air_temp_k', 'reanalysis_min_air_temp_k',\n",
    "       'reanalysis_precip_amt_kg_per_m2',\n",
    "       'reanalysis_relative_humidity_percent', 'reanalysis_sat_precip_amt_mm',\n",
    "       'reanalysis_specific_humidity_g_per_kg', 'reanalysis_tdtr_k',\n",
    "       'station_avg_temp_c', 'station_diur_temp_rng_c', 'station_max_temp_c',\n",
    "       'station_min_temp_c', 'station_precip_mm']\n",
    "df1 = df[numeric_features]\n",
    "df1"
   ]
  },
  {
   "cell_type": "code",
   "execution_count": 7,
   "metadata": {},
   "outputs": [
    {
     "data": {
      "text/html": [
       "<div>\n",
       "<style scoped>\n",
       "    .dataframe tbody tr th:only-of-type {\n",
       "        vertical-align: middle;\n",
       "    }\n",
       "\n",
       "    .dataframe tbody tr th {\n",
       "        vertical-align: top;\n",
       "    }\n",
       "\n",
       "    .dataframe thead th {\n",
       "        text-align: right;\n",
       "    }\n",
       "</style>\n",
       "<table border=\"1\" class=\"dataframe\">\n",
       "  <thead>\n",
       "    <tr style=\"text-align: right;\">\n",
       "      <th></th>\n",
       "      <th>city</th>\n",
       "      <th>year</th>\n",
       "      <th>weekofyear</th>\n",
       "      <th>total_cases</th>\n",
       "    </tr>\n",
       "  </thead>\n",
       "  <tbody>\n",
       "    <tr>\n",
       "      <th>0</th>\n",
       "      <td>sj</td>\n",
       "      <td>1990</td>\n",
       "      <td>18</td>\n",
       "      <td>4</td>\n",
       "    </tr>\n",
       "    <tr>\n",
       "      <th>1</th>\n",
       "      <td>sj</td>\n",
       "      <td>1990</td>\n",
       "      <td>19</td>\n",
       "      <td>5</td>\n",
       "    </tr>\n",
       "    <tr>\n",
       "      <th>2</th>\n",
       "      <td>sj</td>\n",
       "      <td>1990</td>\n",
       "      <td>20</td>\n",
       "      <td>4</td>\n",
       "    </tr>\n",
       "    <tr>\n",
       "      <th>3</th>\n",
       "      <td>sj</td>\n",
       "      <td>1990</td>\n",
       "      <td>21</td>\n",
       "      <td>3</td>\n",
       "    </tr>\n",
       "    <tr>\n",
       "      <th>4</th>\n",
       "      <td>sj</td>\n",
       "      <td>1990</td>\n",
       "      <td>22</td>\n",
       "      <td>6</td>\n",
       "    </tr>\n",
       "    <tr>\n",
       "      <th>...</th>\n",
       "      <td>...</td>\n",
       "      <td>...</td>\n",
       "      <td>...</td>\n",
       "      <td>...</td>\n",
       "    </tr>\n",
       "    <tr>\n",
       "      <th>1451</th>\n",
       "      <td>iq</td>\n",
       "      <td>2010</td>\n",
       "      <td>21</td>\n",
       "      <td>5</td>\n",
       "    </tr>\n",
       "    <tr>\n",
       "      <th>1452</th>\n",
       "      <td>iq</td>\n",
       "      <td>2010</td>\n",
       "      <td>22</td>\n",
       "      <td>8</td>\n",
       "    </tr>\n",
       "    <tr>\n",
       "      <th>1453</th>\n",
       "      <td>iq</td>\n",
       "      <td>2010</td>\n",
       "      <td>23</td>\n",
       "      <td>1</td>\n",
       "    </tr>\n",
       "    <tr>\n",
       "      <th>1454</th>\n",
       "      <td>iq</td>\n",
       "      <td>2010</td>\n",
       "      <td>24</td>\n",
       "      <td>1</td>\n",
       "    </tr>\n",
       "    <tr>\n",
       "      <th>1455</th>\n",
       "      <td>iq</td>\n",
       "      <td>2010</td>\n",
       "      <td>25</td>\n",
       "      <td>4</td>\n",
       "    </tr>\n",
       "  </tbody>\n",
       "</table>\n",
       "<p>1456 rows × 4 columns</p>\n",
       "</div>"
      ],
      "text/plain": [
       "     city  year  weekofyear  total_cases\n",
       "0      sj  1990          18            4\n",
       "1      sj  1990          19            5\n",
       "2      sj  1990          20            4\n",
       "3      sj  1990          21            3\n",
       "4      sj  1990          22            6\n",
       "...   ...   ...         ...          ...\n",
       "1451   iq  2010          21            5\n",
       "1452   iq  2010          22            8\n",
       "1453   iq  2010          23            1\n",
       "1454   iq  2010          24            1\n",
       "1455   iq  2010          25            4\n",
       "\n",
       "[1456 rows x 4 columns]"
      ]
     },
     "execution_count": 7,
     "metadata": {},
     "output_type": "execute_result"
    }
   ],
   "source": [
    "df_labels"
   ]
  },
  {
   "cell_type": "code",
   "execution_count": 8,
   "metadata": {},
   "outputs": [
    {
     "name": "stderr",
     "output_type": "stream",
     "text": [
      "/home/shan/anaconda3/lib/python3.8/site-packages/pandas/core/indexing.py:1596: SettingWithCopyWarning: \n",
      "A value is trying to be set on a copy of a slice from a DataFrame.\n",
      "Try using .loc[row_indexer,col_indexer] = value instead\n",
      "\n",
      "See the caveats in the documentation: https://pandas.pydata.org/pandas-docs/stable/user_guide/indexing.html#returning-a-view-versus-a-copy\n",
      "  self.obj[key] = _infer_fill_value(value)\n",
      "/home/shan/anaconda3/lib/python3.8/site-packages/pandas/core/indexing.py:1745: SettingWithCopyWarning: \n",
      "A value is trying to be set on a copy of a slice from a DataFrame.\n",
      "Try using .loc[row_indexer,col_indexer] = value instead\n",
      "\n",
      "See the caveats in the documentation: https://pandas.pydata.org/pandas-docs/stable/user_guide/indexing.html#returning-a-view-versus-a-copy\n",
      "  isetter(ilocs[0], value)\n"
     ]
    },
    {
     "data": {
      "text/html": [
       "<div>\n",
       "<style scoped>\n",
       "    .dataframe tbody tr th:only-of-type {\n",
       "        vertical-align: middle;\n",
       "    }\n",
       "\n",
       "    .dataframe tbody tr th {\n",
       "        vertical-align: top;\n",
       "    }\n",
       "\n",
       "    .dataframe thead th {\n",
       "        text-align: right;\n",
       "    }\n",
       "</style>\n",
       "<table border=\"1\" class=\"dataframe\">\n",
       "  <thead>\n",
       "    <tr style=\"text-align: right;\">\n",
       "      <th></th>\n",
       "      <th>year</th>\n",
       "      <th>weekofyear</th>\n",
       "      <th>ndvi_ne</th>\n",
       "      <th>ndvi_nw</th>\n",
       "      <th>ndvi_se</th>\n",
       "      <th>ndvi_sw</th>\n",
       "      <th>precipitation_amt_mm</th>\n",
       "      <th>reanalysis_air_temp_k</th>\n",
       "      <th>reanalysis_avg_temp_k</th>\n",
       "      <th>reanalysis_dew_point_temp_k</th>\n",
       "      <th>...</th>\n",
       "      <th>reanalysis_relative_humidity_percent</th>\n",
       "      <th>reanalysis_sat_precip_amt_mm</th>\n",
       "      <th>reanalysis_specific_humidity_g_per_kg</th>\n",
       "      <th>reanalysis_tdtr_k</th>\n",
       "      <th>station_avg_temp_c</th>\n",
       "      <th>station_diur_temp_rng_c</th>\n",
       "      <th>station_max_temp_c</th>\n",
       "      <th>station_min_temp_c</th>\n",
       "      <th>station_precip_mm</th>\n",
       "      <th>total_cases</th>\n",
       "    </tr>\n",
       "  </thead>\n",
       "  <tbody>\n",
       "    <tr>\n",
       "      <th>0</th>\n",
       "      <td>1990</td>\n",
       "      <td>18</td>\n",
       "      <td>0.122600</td>\n",
       "      <td>0.103725</td>\n",
       "      <td>0.198483</td>\n",
       "      <td>0.177617</td>\n",
       "      <td>12.42</td>\n",
       "      <td>297.572857</td>\n",
       "      <td>297.742857</td>\n",
       "      <td>292.414286</td>\n",
       "      <td>...</td>\n",
       "      <td>73.365714</td>\n",
       "      <td>12.42</td>\n",
       "      <td>14.012857</td>\n",
       "      <td>2.628571</td>\n",
       "      <td>25.442857</td>\n",
       "      <td>6.900000</td>\n",
       "      <td>29.4</td>\n",
       "      <td>20.0</td>\n",
       "      <td>16.0</td>\n",
       "      <td>4</td>\n",
       "    </tr>\n",
       "    <tr>\n",
       "      <th>1</th>\n",
       "      <td>1990</td>\n",
       "      <td>19</td>\n",
       "      <td>0.169900</td>\n",
       "      <td>0.142175</td>\n",
       "      <td>0.162357</td>\n",
       "      <td>0.155486</td>\n",
       "      <td>22.82</td>\n",
       "      <td>298.211429</td>\n",
       "      <td>298.442857</td>\n",
       "      <td>293.951429</td>\n",
       "      <td>...</td>\n",
       "      <td>77.368571</td>\n",
       "      <td>22.82</td>\n",
       "      <td>15.372857</td>\n",
       "      <td>2.371429</td>\n",
       "      <td>26.714286</td>\n",
       "      <td>6.371429</td>\n",
       "      <td>31.7</td>\n",
       "      <td>22.2</td>\n",
       "      <td>8.6</td>\n",
       "      <td>5</td>\n",
       "    </tr>\n",
       "    <tr>\n",
       "      <th>2</th>\n",
       "      <td>1990</td>\n",
       "      <td>20</td>\n",
       "      <td>0.032250</td>\n",
       "      <td>0.172967</td>\n",
       "      <td>0.157200</td>\n",
       "      <td>0.170843</td>\n",
       "      <td>34.54</td>\n",
       "      <td>298.781429</td>\n",
       "      <td>298.878571</td>\n",
       "      <td>295.434286</td>\n",
       "      <td>...</td>\n",
       "      <td>82.052857</td>\n",
       "      <td>34.54</td>\n",
       "      <td>16.848571</td>\n",
       "      <td>2.300000</td>\n",
       "      <td>26.714286</td>\n",
       "      <td>6.485714</td>\n",
       "      <td>32.2</td>\n",
       "      <td>22.8</td>\n",
       "      <td>41.4</td>\n",
       "      <td>4</td>\n",
       "    </tr>\n",
       "    <tr>\n",
       "      <th>3</th>\n",
       "      <td>1990</td>\n",
       "      <td>21</td>\n",
       "      <td>0.128633</td>\n",
       "      <td>0.245067</td>\n",
       "      <td>0.227557</td>\n",
       "      <td>0.235886</td>\n",
       "      <td>15.36</td>\n",
       "      <td>298.987143</td>\n",
       "      <td>299.228571</td>\n",
       "      <td>295.310000</td>\n",
       "      <td>...</td>\n",
       "      <td>80.337143</td>\n",
       "      <td>15.36</td>\n",
       "      <td>16.672857</td>\n",
       "      <td>2.428571</td>\n",
       "      <td>27.471429</td>\n",
       "      <td>6.771429</td>\n",
       "      <td>33.3</td>\n",
       "      <td>23.3</td>\n",
       "      <td>4.0</td>\n",
       "      <td>3</td>\n",
       "    </tr>\n",
       "    <tr>\n",
       "      <th>4</th>\n",
       "      <td>1990</td>\n",
       "      <td>22</td>\n",
       "      <td>0.196200</td>\n",
       "      <td>0.262200</td>\n",
       "      <td>0.251200</td>\n",
       "      <td>0.247340</td>\n",
       "      <td>7.52</td>\n",
       "      <td>299.518571</td>\n",
       "      <td>299.664286</td>\n",
       "      <td>295.821429</td>\n",
       "      <td>...</td>\n",
       "      <td>80.460000</td>\n",
       "      <td>7.52</td>\n",
       "      <td>17.210000</td>\n",
       "      <td>3.014286</td>\n",
       "      <td>28.942857</td>\n",
       "      <td>9.371429</td>\n",
       "      <td>35.0</td>\n",
       "      <td>23.9</td>\n",
       "      <td>5.8</td>\n",
       "      <td>6</td>\n",
       "    </tr>\n",
       "    <tr>\n",
       "      <th>...</th>\n",
       "      <td>...</td>\n",
       "      <td>...</td>\n",
       "      <td>...</td>\n",
       "      <td>...</td>\n",
       "      <td>...</td>\n",
       "      <td>...</td>\n",
       "      <td>...</td>\n",
       "      <td>...</td>\n",
       "      <td>...</td>\n",
       "      <td>...</td>\n",
       "      <td>...</td>\n",
       "      <td>...</td>\n",
       "      <td>...</td>\n",
       "      <td>...</td>\n",
       "      <td>...</td>\n",
       "      <td>...</td>\n",
       "      <td>...</td>\n",
       "      <td>...</td>\n",
       "      <td>...</td>\n",
       "      <td>...</td>\n",
       "      <td>...</td>\n",
       "    </tr>\n",
       "    <tr>\n",
       "      <th>1451</th>\n",
       "      <td>2010</td>\n",
       "      <td>21</td>\n",
       "      <td>0.342750</td>\n",
       "      <td>0.318900</td>\n",
       "      <td>0.256343</td>\n",
       "      <td>0.292514</td>\n",
       "      <td>55.30</td>\n",
       "      <td>299.334286</td>\n",
       "      <td>300.771429</td>\n",
       "      <td>296.825714</td>\n",
       "      <td>...</td>\n",
       "      <td>88.765714</td>\n",
       "      <td>55.30</td>\n",
       "      <td>18.485714</td>\n",
       "      <td>9.800000</td>\n",
       "      <td>28.633333</td>\n",
       "      <td>11.933333</td>\n",
       "      <td>35.4</td>\n",
       "      <td>22.4</td>\n",
       "      <td>27.0</td>\n",
       "      <td>5</td>\n",
       "    </tr>\n",
       "    <tr>\n",
       "      <th>1452</th>\n",
       "      <td>2010</td>\n",
       "      <td>22</td>\n",
       "      <td>0.160157</td>\n",
       "      <td>0.160371</td>\n",
       "      <td>0.136043</td>\n",
       "      <td>0.225657</td>\n",
       "      <td>86.47</td>\n",
       "      <td>298.330000</td>\n",
       "      <td>299.392857</td>\n",
       "      <td>296.452857</td>\n",
       "      <td>...</td>\n",
       "      <td>91.600000</td>\n",
       "      <td>86.47</td>\n",
       "      <td>18.070000</td>\n",
       "      <td>7.471429</td>\n",
       "      <td>27.433333</td>\n",
       "      <td>10.500000</td>\n",
       "      <td>34.7</td>\n",
       "      <td>21.7</td>\n",
       "      <td>36.6</td>\n",
       "      <td>8</td>\n",
       "    </tr>\n",
       "    <tr>\n",
       "      <th>1453</th>\n",
       "      <td>2010</td>\n",
       "      <td>23</td>\n",
       "      <td>0.247057</td>\n",
       "      <td>0.146057</td>\n",
       "      <td>0.250357</td>\n",
       "      <td>0.233714</td>\n",
       "      <td>58.94</td>\n",
       "      <td>296.598571</td>\n",
       "      <td>297.592857</td>\n",
       "      <td>295.501429</td>\n",
       "      <td>...</td>\n",
       "      <td>94.280000</td>\n",
       "      <td>58.94</td>\n",
       "      <td>17.008571</td>\n",
       "      <td>7.500000</td>\n",
       "      <td>24.400000</td>\n",
       "      <td>6.900000</td>\n",
       "      <td>32.2</td>\n",
       "      <td>19.2</td>\n",
       "      <td>7.4</td>\n",
       "      <td>1</td>\n",
       "    </tr>\n",
       "    <tr>\n",
       "      <th>1454</th>\n",
       "      <td>2010</td>\n",
       "      <td>24</td>\n",
       "      <td>0.333914</td>\n",
       "      <td>0.245771</td>\n",
       "      <td>0.278886</td>\n",
       "      <td>0.325486</td>\n",
       "      <td>59.67</td>\n",
       "      <td>296.345714</td>\n",
       "      <td>297.521429</td>\n",
       "      <td>295.324286</td>\n",
       "      <td>...</td>\n",
       "      <td>94.660000</td>\n",
       "      <td>59.67</td>\n",
       "      <td>16.815714</td>\n",
       "      <td>7.871429</td>\n",
       "      <td>25.433333</td>\n",
       "      <td>8.733333</td>\n",
       "      <td>31.2</td>\n",
       "      <td>21.0</td>\n",
       "      <td>16.0</td>\n",
       "      <td>1</td>\n",
       "    </tr>\n",
       "    <tr>\n",
       "      <th>1455</th>\n",
       "      <td>2010</td>\n",
       "      <td>25</td>\n",
       "      <td>0.298186</td>\n",
       "      <td>0.232971</td>\n",
       "      <td>0.274214</td>\n",
       "      <td>0.315757</td>\n",
       "      <td>63.22</td>\n",
       "      <td>298.097143</td>\n",
       "      <td>299.835714</td>\n",
       "      <td>295.807143</td>\n",
       "      <td>...</td>\n",
       "      <td>89.082857</td>\n",
       "      <td>63.22</td>\n",
       "      <td>17.355714</td>\n",
       "      <td>11.014286</td>\n",
       "      <td>27.475000</td>\n",
       "      <td>9.900000</td>\n",
       "      <td>33.7</td>\n",
       "      <td>22.2</td>\n",
       "      <td>20.4</td>\n",
       "      <td>4</td>\n",
       "    </tr>\n",
       "  </tbody>\n",
       "</table>\n",
       "<p>1456 rows × 23 columns</p>\n",
       "</div>"
      ],
      "text/plain": [
       "      year  weekofyear   ndvi_ne   ndvi_nw   ndvi_se   ndvi_sw  \\\n",
       "0     1990          18  0.122600  0.103725  0.198483  0.177617   \n",
       "1     1990          19  0.169900  0.142175  0.162357  0.155486   \n",
       "2     1990          20  0.032250  0.172967  0.157200  0.170843   \n",
       "3     1990          21  0.128633  0.245067  0.227557  0.235886   \n",
       "4     1990          22  0.196200  0.262200  0.251200  0.247340   \n",
       "...    ...         ...       ...       ...       ...       ...   \n",
       "1451  2010          21  0.342750  0.318900  0.256343  0.292514   \n",
       "1452  2010          22  0.160157  0.160371  0.136043  0.225657   \n",
       "1453  2010          23  0.247057  0.146057  0.250357  0.233714   \n",
       "1454  2010          24  0.333914  0.245771  0.278886  0.325486   \n",
       "1455  2010          25  0.298186  0.232971  0.274214  0.315757   \n",
       "\n",
       "      precipitation_amt_mm  reanalysis_air_temp_k  reanalysis_avg_temp_k  \\\n",
       "0                    12.42             297.572857             297.742857   \n",
       "1                    22.82             298.211429             298.442857   \n",
       "2                    34.54             298.781429             298.878571   \n",
       "3                    15.36             298.987143             299.228571   \n",
       "4                     7.52             299.518571             299.664286   \n",
       "...                    ...                    ...                    ...   \n",
       "1451                 55.30             299.334286             300.771429   \n",
       "1452                 86.47             298.330000             299.392857   \n",
       "1453                 58.94             296.598571             297.592857   \n",
       "1454                 59.67             296.345714             297.521429   \n",
       "1455                 63.22             298.097143             299.835714   \n",
       "\n",
       "      reanalysis_dew_point_temp_k  ...  reanalysis_relative_humidity_percent  \\\n",
       "0                      292.414286  ...                             73.365714   \n",
       "1                      293.951429  ...                             77.368571   \n",
       "2                      295.434286  ...                             82.052857   \n",
       "3                      295.310000  ...                             80.337143   \n",
       "4                      295.821429  ...                             80.460000   \n",
       "...                           ...  ...                                   ...   \n",
       "1451                   296.825714  ...                             88.765714   \n",
       "1452                   296.452857  ...                             91.600000   \n",
       "1453                   295.501429  ...                             94.280000   \n",
       "1454                   295.324286  ...                             94.660000   \n",
       "1455                   295.807143  ...                             89.082857   \n",
       "\n",
       "      reanalysis_sat_precip_amt_mm  reanalysis_specific_humidity_g_per_kg  \\\n",
       "0                            12.42                              14.012857   \n",
       "1                            22.82                              15.372857   \n",
       "2                            34.54                              16.848571   \n",
       "3                            15.36                              16.672857   \n",
       "4                             7.52                              17.210000   \n",
       "...                            ...                                    ...   \n",
       "1451                         55.30                              18.485714   \n",
       "1452                         86.47                              18.070000   \n",
       "1453                         58.94                              17.008571   \n",
       "1454                         59.67                              16.815714   \n",
       "1455                         63.22                              17.355714   \n",
       "\n",
       "      reanalysis_tdtr_k  station_avg_temp_c  station_diur_temp_rng_c  \\\n",
       "0              2.628571           25.442857                 6.900000   \n",
       "1              2.371429           26.714286                 6.371429   \n",
       "2              2.300000           26.714286                 6.485714   \n",
       "3              2.428571           27.471429                 6.771429   \n",
       "4              3.014286           28.942857                 9.371429   \n",
       "...                 ...                 ...                      ...   \n",
       "1451           9.800000           28.633333                11.933333   \n",
       "1452           7.471429           27.433333                10.500000   \n",
       "1453           7.500000           24.400000                 6.900000   \n",
       "1454           7.871429           25.433333                 8.733333   \n",
       "1455          11.014286           27.475000                 9.900000   \n",
       "\n",
       "      station_max_temp_c  station_min_temp_c  station_precip_mm  total_cases  \n",
       "0                   29.4                20.0               16.0            4  \n",
       "1                   31.7                22.2                8.6            5  \n",
       "2                   32.2                22.8               41.4            4  \n",
       "3                   33.3                23.3                4.0            3  \n",
       "4                   35.0                23.9                5.8            6  \n",
       "...                  ...                 ...                ...          ...  \n",
       "1451                35.4                22.4               27.0            5  \n",
       "1452                34.7                21.7               36.6            8  \n",
       "1453                32.2                19.2                7.4            1  \n",
       "1454                31.2                21.0               16.0            1  \n",
       "1455                33.7                22.2               20.4            4  \n",
       "\n",
       "[1456 rows x 23 columns]"
      ]
     },
     "execution_count": 8,
     "metadata": {},
     "output_type": "execute_result"
    }
   ],
   "source": [
    "df1.loc[:, \"total_cases\"] = df_labels[\"total_cases\"].tolist()\n",
    "df1"
   ]
  },
  {
   "cell_type": "code",
   "execution_count": 9,
   "metadata": {},
   "outputs": [
    {
     "name": "stderr",
     "output_type": "stream",
     "text": [
      "<ipython-input-3-50975a7cbf7d>:5: SettingWithCopyWarning: \n",
      "A value is trying to be set on a copy of a slice from a DataFrame\n",
      "\n",
      "See the caveats in the documentation: https://pandas.pydata.org/pandas-docs/stable/user_guide/indexing.html#returning-a-view-versus-a-copy\n",
      "  df.dropna(inplace=True)\n"
     ]
    }
   ],
   "source": [
    "df = clean_dataset(df1)"
   ]
  },
  {
   "cell_type": "code",
   "execution_count": 10,
   "metadata": {},
   "outputs": [],
   "source": [
    "df = df1.reset_index()"
   ]
  },
  {
   "cell_type": "markdown",
   "metadata": {},
   "source": [
    "### Feature selection using PCA"
   ]
  },
  {
   "cell_type": "code",
   "execution_count": 11,
   "metadata": {},
   "outputs": [],
   "source": [
    "# from sklearn.decomposition import PCA\n",
    "# import pandas as pd\n",
    "# import numpy as np\n",
    "# np.random.seed(0)\n",
    "\n",
    "# # 10 samples with 5 features\n",
    "# # train_features = np.random.rand(10,5)\n",
    "\n",
    "# from sklearn.preprocessing import StandardScaler\n",
    "# numeric_features = ['year', 'weekofyear', 'ndvi_ne', 'ndvi_nw',\n",
    "#        'ndvi_se', 'ndvi_sw', 'precipitation_amt_mm', 'reanalysis_air_temp_k',\n",
    "#        'reanalysis_avg_temp_k', 'reanalysis_dew_point_temp_k',\n",
    "#        'reanalysis_max_air_temp_k', 'reanalysis_min_air_temp_k',\n",
    "#        'reanalysis_precip_amt_kg_per_m2',\n",
    "#        'reanalysis_relative_humidity_percent', 'reanalysis_sat_precip_amt_mm',\n",
    "#        'reanalysis_specific_humidity_g_per_kg', 'reanalysis_tdtr_k',\n",
    "#        'station_avg_temp_c', 'station_diur_temp_rng_c', 'station_max_temp_c',\n",
    "#        'station_min_temp_c', 'station_precip_mm']\n",
    "# x = df.loc[:, numeric_features].values # Separating out the target\n",
    "# y = df_labels.loc[:,['total_cases']].values # Standardizing the features\n",
    "# x = StandardScaler().fit_transform(x)\n",
    "\n",
    "# model = PCA(n_components=5).fit(x)\n",
    "# X_pc = model.transform(x)\n",
    "\n",
    "# # number of components\n",
    "# n_pcs= model.components_.shape[0]\n",
    "\n",
    "# # get the index of the most important feature on EACH component i.e. largest absolute value\n",
    "# # using LIST COMPREHENSION HERE\n",
    "# most_important = [np.abs(model.components_[i]).argmax() for i in range(n_pcs)]\n",
    "\n",
    "# initial_feature_names = numeric_features # ['a','b','c','d','e']\n",
    "\n",
    "# # get the names\n",
    "# most_important_names = [initial_feature_names[most_important[i]] for i in range(n_pcs)]\n",
    "\n",
    "# # using LIST COMPREHENSION HERE AGAIN\n",
    "# dic = {'PC{}'.format(i+1): most_important_names[i] for i in range(n_pcs)}\n",
    "\n",
    "# # build the dataframe\n",
    "# df = pd.DataFrame(sorted(dic.items()))"
   ]
  },
  {
   "cell_type": "code",
   "execution_count": 12,
   "metadata": {},
   "outputs": [],
   "source": [
    "top_4 = ['reanalysis_max_air_temp_k', 'reanalysis_dew_point_temp_k',\n",
    "       'precipitation_amt_mm', 'ndvi_se']"
   ]
  },
  {
   "cell_type": "code",
   "execution_count": 13,
   "metadata": {},
   "outputs": [
    {
     "name": "stdout",
     "output_type": "stream",
     "text": [
      "reanalysis_max_air_temp_k\n",
      "reanalysis_dew_point_temp_k\n",
      "precipitation_amt_mm\n",
      "ndvi_se\n"
     ]
    }
   ],
   "source": [
    "for l in top_4:\n",
    "    print(l)"
   ]
  },
  {
   "cell_type": "code",
   "execution_count": 14,
   "metadata": {},
   "outputs": [
    {
     "data": {
      "text/html": [
       "<div>\n",
       "<style scoped>\n",
       "    .dataframe tbody tr th:only-of-type {\n",
       "        vertical-align: middle;\n",
       "    }\n",
       "\n",
       "    .dataframe tbody tr th {\n",
       "        vertical-align: top;\n",
       "    }\n",
       "\n",
       "    .dataframe thead th {\n",
       "        text-align: right;\n",
       "    }\n",
       "</style>\n",
       "<table border=\"1\" class=\"dataframe\">\n",
       "  <thead>\n",
       "    <tr style=\"text-align: right;\">\n",
       "      <th></th>\n",
       "      <th>reanalysis_max_air_temp_k</th>\n",
       "      <th>reanalysis_dew_point_temp_k</th>\n",
       "      <th>precipitation_amt_mm</th>\n",
       "      <th>ndvi_se</th>\n",
       "    </tr>\n",
       "  </thead>\n",
       "  <tbody>\n",
       "    <tr>\n",
       "      <th>0</th>\n",
       "      <td>299.8</td>\n",
       "      <td>292.414286</td>\n",
       "      <td>12.42</td>\n",
       "      <td>0.198483</td>\n",
       "    </tr>\n",
       "    <tr>\n",
       "      <th>1</th>\n",
       "      <td>300.9</td>\n",
       "      <td>293.951429</td>\n",
       "      <td>22.82</td>\n",
       "      <td>0.162357</td>\n",
       "    </tr>\n",
       "    <tr>\n",
       "      <th>2</th>\n",
       "      <td>300.5</td>\n",
       "      <td>295.434286</td>\n",
       "      <td>34.54</td>\n",
       "      <td>0.157200</td>\n",
       "    </tr>\n",
       "    <tr>\n",
       "      <th>3</th>\n",
       "      <td>301.4</td>\n",
       "      <td>295.310000</td>\n",
       "      <td>15.36</td>\n",
       "      <td>0.227557</td>\n",
       "    </tr>\n",
       "    <tr>\n",
       "      <th>4</th>\n",
       "      <td>301.9</td>\n",
       "      <td>295.821429</td>\n",
       "      <td>7.52</td>\n",
       "      <td>0.251200</td>\n",
       "    </tr>\n",
       "    <tr>\n",
       "      <th>...</th>\n",
       "      <td>...</td>\n",
       "      <td>...</td>\n",
       "      <td>...</td>\n",
       "      <td>...</td>\n",
       "    </tr>\n",
       "    <tr>\n",
       "      <th>1194</th>\n",
       "      <td>309.7</td>\n",
       "      <td>296.825714</td>\n",
       "      <td>55.30</td>\n",
       "      <td>0.256343</td>\n",
       "    </tr>\n",
       "    <tr>\n",
       "      <th>1195</th>\n",
       "      <td>308.5</td>\n",
       "      <td>296.452857</td>\n",
       "      <td>86.47</td>\n",
       "      <td>0.136043</td>\n",
       "    </tr>\n",
       "    <tr>\n",
       "      <th>1196</th>\n",
       "      <td>305.5</td>\n",
       "      <td>295.501429</td>\n",
       "      <td>58.94</td>\n",
       "      <td>0.250357</td>\n",
       "    </tr>\n",
       "    <tr>\n",
       "      <th>1197</th>\n",
       "      <td>306.1</td>\n",
       "      <td>295.324286</td>\n",
       "      <td>59.67</td>\n",
       "      <td>0.278886</td>\n",
       "    </tr>\n",
       "    <tr>\n",
       "      <th>1198</th>\n",
       "      <td>307.8</td>\n",
       "      <td>295.807143</td>\n",
       "      <td>63.22</td>\n",
       "      <td>0.274214</td>\n",
       "    </tr>\n",
       "  </tbody>\n",
       "</table>\n",
       "<p>1199 rows × 4 columns</p>\n",
       "</div>"
      ],
      "text/plain": [
       "      reanalysis_max_air_temp_k  reanalysis_dew_point_temp_k  \\\n",
       "0                         299.8                   292.414286   \n",
       "1                         300.9                   293.951429   \n",
       "2                         300.5                   295.434286   \n",
       "3                         301.4                   295.310000   \n",
       "4                         301.9                   295.821429   \n",
       "...                         ...                          ...   \n",
       "1194                      309.7                   296.825714   \n",
       "1195                      308.5                   296.452857   \n",
       "1196                      305.5                   295.501429   \n",
       "1197                      306.1                   295.324286   \n",
       "1198                      307.8                   295.807143   \n",
       "\n",
       "      precipitation_amt_mm   ndvi_se  \n",
       "0                    12.42  0.198483  \n",
       "1                    22.82  0.162357  \n",
       "2                    34.54  0.157200  \n",
       "3                    15.36  0.227557  \n",
       "4                     7.52  0.251200  \n",
       "...                    ...       ...  \n",
       "1194                 55.30  0.256343  \n",
       "1195                 86.47  0.136043  \n",
       "1196                 58.94  0.250357  \n",
       "1197                 59.67  0.278886  \n",
       "1198                 63.22  0.274214  \n",
       "\n",
       "[1199 rows x 4 columns]"
      ]
     },
     "execution_count": 14,
     "metadata": {},
     "output_type": "execute_result"
    }
   ],
   "source": [
    "# df_next = df[top_4+[\"total_cases\"]]\n",
    "y = df[\"total_cases\"]\n",
    "total_cases = df[\"total_cases\"]\n",
    "df_next = df[top_4]\n",
    "df_next_copy = df_next.copy()\n",
    "\n",
    "assert df_next.shape[0] == y.shape[0]\n",
    "df_next"
   ]
  },
  {
   "cell_type": "markdown",
   "metadata": {
    "id": "YIcDEgAzkowO"
   },
   "source": [
    "**Distribution**"
   ]
  },
  {
   "cell_type": "code",
   "execution_count": 15,
   "metadata": {
    "colab": {
     "base_uri": "https://localhost:8080/",
     "height": 540
    },
    "id": "MHgmAgPC-d-e",
    "outputId": "4324bade-8868-408c-b0fd-aea9ac5a7500"
   },
   "outputs": [
    {
     "data": {
      "image/png": "[encoded data removed]",
      "text/plain": [
       "<Figure size 360x360 with 1 Axes>"
      ]
     },
     "metadata": {
      "needs_background": "light"
     },
     "output_type": "display_data"
    },
    {
     "data": {
      "image/png": "[encoded data removed]",
      "text/plain": [
       "<Figure size 360x360 with 1 Axes>"
      ]
     },
     "metadata": {
      "needs_background": "light"
     },
     "output_type": "display_data"
    },
    {
     "data": {
      "image/png": "[encoded data removed]",
      "text/plain": [
       "<Figure size 360x360 with 1 Axes>"
      ]
     },
     "metadata": {
      "needs_background": "light"
     },
     "output_type": "display_data"
    },
    {
     "data": {
      "image/png": "[encoded data removed]",
      "text/plain": [
       "<Figure size 360x360 with 1 Axes>"
      ]
     },
     "metadata": {
      "needs_background": "light"
     },
     "output_type": "display_data"
    }
   ],
   "source": [
    "from matplotlib import pyplot as plt\n",
    "for i in range(4):\n",
    "    plt.figure(figsize=(5, 5))\n",
    "    plt.scatter(df_next[top_4[i]],y)\n",
    "    plt.xticks(rotation=45)\n",
    "    plt.xlabel(top_4[i], fontsize = 20)\n",
    "    plt.ylabel(u'Total cases', fontsize = 20)\n"
   ]
  },
  {
   "cell_type": "code",
   "execution_count": 16,
   "metadata": {},
   "outputs": [
    {
     "data": {
      "text/plain": [
       "(1199, 4)"
      ]
     },
     "execution_count": 16,
     "metadata": {},
     "output_type": "execute_result"
    }
   ],
   "source": [
    "df_next.shape"
   ]
  },
  {
   "cell_type": "markdown",
   "metadata": {},
   "source": [
    "### Calculating bins"
   ]
  },
  {
   "cell_type": "code",
   "execution_count": 17,
   "metadata": {},
   "outputs": [
    {
     "data": {
      "text/plain": [
       "24"
      ]
     },
     "execution_count": 17,
     "metadata": {},
     "output_type": "execute_result"
    }
   ],
   "source": [
    "bins = int(1 + 3.32*np.log(df_next.shape[0]))\n",
    "bins"
   ]
  },
  {
   "cell_type": "markdown",
   "metadata": {
    "id": "LlFp-z-Q90ng"
   },
   "source": [
    "**Histogram**"
   ]
  },
  {
   "cell_type": "code",
   "execution_count": 18,
   "metadata": {},
   "outputs": [
    {
     "name": "stderr",
     "output_type": "stream",
     "text": [
      "/home/shan/anaconda3/lib/python3.8/site-packages/seaborn/distributions.py:2551: FutureWarning: `distplot` is a deprecated function and will be removed in a future version. Please adapt your code to use either `displot` (a figure-level function with similar flexibility) or `histplot` (an axes-level function for histograms).\n",
      "  warnings.warn(msg, FutureWarning)\n"
     ]
    },
    {
     "data": {
      "text/plain": [
       "<AxesSubplot:xlabel='reanalysis_max_air_temp_k'>"
      ]
     },
     "execution_count": 18,
     "metadata": {},
     "output_type": "execute_result"
    },
    {
     "data": {
      "image/png": "[encoded data removed]",
      "text/plain": [
       "<Figure size 432x288 with 1 Axes>"
      ]
     },
     "metadata": {
      "needs_background": "light"
     },
     "output_type": "display_data"
    }
   ],
   "source": [
    "sns.distplot(df[top_4[0]], kde=False, bins=bins)"
   ]
  },
  {
   "cell_type": "code",
   "execution_count": 19,
   "metadata": {
    "colab": {
     "base_uri": "https://localhost:8080/",
     "height": 352
    },
    "id": "v2GgclFI8THW",
    "outputId": "dc8d870a-f820-4a80-9475-3f96d11a7000"
   },
   "outputs": [
    {
     "data": {
      "text/plain": [
       "<AxesSubplot:xlabel='reanalysis_dew_point_temp_k'>"
      ]
     },
     "execution_count": 19,
     "metadata": {},
     "output_type": "execute_result"
    },
    {
     "data": {
      "image/png": "[encoded data removed]",
      "text/plain": [
       "<Figure size 432x288 with 1 Axes>"
      ]
     },
     "metadata": {
      "needs_background": "light"
     },
     "output_type": "display_data"
    }
   ],
   "source": [
    "sns.distplot(df[top_4[1]], kde=False, bins=bins)"
   ]
  },
  {
   "cell_type": "code",
   "execution_count": 20,
   "metadata": {
    "colab": {
     "base_uri": "https://localhost:8080/",
     "height": 352
    },
    "id": "soBrOHI08WNc",
    "outputId": "5fbd2808-f2ce-4a5f-a19d-51a7a8a60602"
   },
   "outputs": [
    {
     "data": {
      "text/plain": [
       "<AxesSubplot:xlabel='precipitation_amt_mm'>"
      ]
     },
     "execution_count": 20,
     "metadata": {},
     "output_type": "execute_result"
    },
    {
     "data": {
      "image/png": "[encoded data removed]",
      "text/plain": [
       "<Figure size 432x288 with 1 Axes>"
      ]
     },
     "metadata": {
      "needs_background": "light"
     },
     "output_type": "display_data"
    }
   ],
   "source": [
    "sns.distplot(df[top_4[2]], kde=False, bins=bins)"
   ]
  },
  {
   "cell_type": "code",
   "execution_count": 21,
   "metadata": {},
   "outputs": [
    {
     "data": {
      "text/plain": [
       "<AxesSubplot:xlabel='ndvi_se'>"
      ]
     },
     "execution_count": 21,
     "metadata": {},
     "output_type": "execute_result"
    },
    {
     "data": {
      "image/png": "[encoded data removed]",
      "text/plain": [
       "<Figure size 432x288 with 1 Axes>"
      ]
     },
     "metadata": {
      "needs_background": "light"
     },
     "output_type": "display_data"
    }
   ],
   "source": [
    "sns.distplot(df[top_4[3]], kde=False, bins=bins)"
   ]
  },
  {
   "cell_type": "code",
   "execution_count": 22,
   "metadata": {
    "colab": {
     "base_uri": "https://localhost:8080/",
     "height": 296
    },
    "id": "Ixg2rQdeYNLd",
    "outputId": "972ca463-1a1f-42fd-854e-e2dcf0f6a5ca"
   },
   "outputs": [
    {
     "data": {
      "image/png": "[encoded data removed]",
      "text/plain": [
       "<Figure size 432x288 with 4 Axes>"
      ]
     },
     "metadata": {
      "needs_background": "light"
     },
     "output_type": "display_data"
    }
   ],
   "source": [
    "_ = df_next[top_4].hist(bins=bins)\n",
    "plt.tight_layout()"
   ]
  },
  {
   "cell_type": "markdown",
   "metadata": {},
   "source": [
    "The first step is recognizing what sort of distribution to fit our data to. A couple of observations:\n",
    "\n",
    "1. Some features are skewed such as [1, 3], with a longer tail to the left than to the right\n",
    "2. The data are continuous\n",
    "\n",
    "There are a few possible choices, but one suitable alternative is the **gamma distribution**:"
   ]
  },
  {
   "cell_type": "code",
   "execution_count": 23,
   "metadata": {},
   "outputs": [
    {
     "data": {
      "text/plain": [
       "reanalysis_max_air_temp_k      303.661301\n",
       "reanalysis_dew_point_temp_k    295.303517\n",
       "precipitation_amt_mm            47.578932\n",
       "ndvi_se                          0.205564\n",
       "dtype: float64"
      ]
     },
     "execution_count": 23,
     "metadata": {},
     "output_type": "execute_result"
    }
   ],
   "source": [
    "df_next_mean = df_next.mean()\n",
    "df_next_mean"
   ]
  },
  {
   "cell_type": "code",
   "execution_count": 24,
   "metadata": {},
   "outputs": [
    {
     "data": {
      "text/plain": [
       "reanalysis_max_air_temp_k        10.880605\n",
       "reanalysis_dew_point_temp_k       2.251529\n",
       "precipitation_amt_mm           1864.434370\n",
       "ndvi_se                           0.005544\n",
       "dtype: float64"
      ]
     },
     "execution_count": 24,
     "metadata": {},
     "output_type": "execute_result"
    }
   ],
   "source": [
    "df_next_var = df_next.var()\n",
    "df_next_var"
   ]
  },
  {
   "cell_type": "code",
   "execution_count": 25,
   "metadata": {},
   "outputs": [
    {
     "data": {
      "text/plain": [
       "'reanalysis_max_air_temp_k'"
      ]
     },
     "execution_count": 25,
     "metadata": {},
     "output_type": "execute_result"
    }
   ],
   "source": [
    "top_4[0]"
   ]
  },
  {
   "cell_type": "markdown",
   "metadata": {},
   "source": [
    "We then use these moments to estimate 𝛼 and 𝛽 for each month:"
   ]
  },
  {
   "cell_type": "code",
   "execution_count": 26,
   "metadata": {},
   "outputs": [],
   "source": [
    "alpha_mom = df_next_mean ** 2 / df_next_var\n",
    "beta_mom = df_next_var / df_next_mean"
   ]
  },
  {
   "cell_type": "code",
   "execution_count": 27,
   "metadata": {},
   "outputs": [
    {
     "data": {
      "text/plain": [
       "(array([0.00519914, 0.01819698, 0.0831862 , 0.09878362, 0.17027176,\n",
       "        0.12477931, 0.16377284, 0.19106831, 0.08708556, 0.07018836,\n",
       "        0.05719052, 0.04679224, 0.06368944, 0.05199138, 0.05329116,\n",
       "        0.0415931 , 0.07668728, 0.03899353, 0.03249461, 0.04549246,\n",
       "        0.0168972 , 0.00649892, 0.00649892, 0.00779871]),\n",
       " array([297.8       , 298.44166667, 299.08333333, 299.725     ,\n",
       "        300.36666667, 301.00833333, 301.65      , 302.29166667,\n",
       "        302.93333333, 303.575     , 304.21666667, 304.85833333,\n",
       "        305.5       , 306.14166667, 306.78333333, 307.425     ,\n",
       "        308.06666667, 308.70833333, 309.35      , 309.99166667,\n",
       "        310.63333333, 311.275     , 311.91666667, 312.55833333,\n",
       "        313.2       ]),\n",
       " <BarContainer object of 24 artists>)"
      ]
     },
     "execution_count": 27,
     "metadata": {},
     "output_type": "execute_result"
    },
    {
     "data": {
      "image/png": "[encoded data removed]",
      "text/plain": [
       "<Figure size 432x288 with 1 Axes>"
      ]
     },
     "metadata": {
      "needs_background": "light"
     },
     "output_type": "display_data"
    }
   ],
   "source": [
    "from scipy.stats.distributions import gamma\n",
    "\n",
    "# df_next[top_4[0]].hist(normed=True, bins=bins)\n",
    "\n",
    "plt.hist(df_next[top_4[0]], density = True, bins=bins)\n",
    "# plt.plot(np.linspace(0, bins), gamma.pdf(np.linspace(0, bins), alpha_mom[0], beta_mom[0]))"
   ]
  },
  {
   "cell_type": "code",
   "execution_count": 28,
   "metadata": {},
   "outputs": [],
   "source": [
    "def calculate_mvsm(column_name):\n",
    "    # Calculation of sample mean, variance, standard deviation, median\n",
    "    mean = df_next[column_name].mean()\n",
    "    var = df_next[column_name].var()\n",
    "    std = df_next[column_name].std()\n",
    "    median = df_next[column_name].median()\n",
    "\n",
    "    # Calculate a truncated mean, truncated by 10% of the highest and lowest values\n",
    "    trimmed_mean = scipy.stats.trim_mean(df_next[column_name], proportiontocut=0.1)\n",
    "\n",
    "    #median absolute deviation\n",
    "    def mad(df):\n",
    "        # parameter for lognormal distribution\n",
    "        sigma = 1.2\n",
    "        k = scipy.stats.lognorm.ppf(3/4., s=sigma)\n",
    "        median = df.median()\n",
    "\n",
    "        return k * np.median(np.fabs(df - median))\n",
    "\n",
    "\n",
    "    # Calculation of the MAD-characteristic (Median Absolute Deviation)\n",
    "    mad_value = mad(df_next[column_name])\n",
    "\n",
    "    print(f'Average = {int(mean)}, variance = {int(var)}, standard deviation = {int(std)},\\n'\n",
    "          f'median = {int(median)}, truncated mean {int(trimmed_mean)}, MAD = {int(mad_value)}')\n",
    "    return {\"mean\":mean, \n",
    "           \"std\":std,\n",
    "           \"var\":var,\n",
    "           \"median\":median,\n",
    "           \"trimmed_mean\":trimmed_mean,\n",
    "           \"mad_value\":mad_value}"
   ]
  },
  {
   "cell_type": "code",
   "execution_count": 29,
   "metadata": {},
   "outputs": [],
   "source": [
    "def norm_q95(std, var, mean, df):\n",
    "    # Calculation of the 95% confidence interval for the sample mean\n",
    "    norm_q95 = scipy.stats.norm.ppf(0.95)\n",
    "    mean_conf = norm_q95 * std / np.sqrt(len(df))\n",
    "\n",
    "    # Calculation of 95% confidence intervals for variance and standard deviation\n",
    "    chi2_q95_left = scipy.stats.chi2.ppf((1 - 0.05 / 2.0), df=len(df) - 1)\n",
    "    chi2_q95_right = scipy.stats.chi2.ppf(0.05 / 2.0, df=len(df) - 1)\n",
    "\n",
    "    var_conf_left = var * (len(df) - 1) / chi2_q95_left\n",
    "    var_conf_right = var * (len(df) - 1) / chi2_q95_right\n",
    "    std_conf_left = np.sqrt(var_conf_left)\n",
    "    std_conf_right = np.sqrt(var_conf_right)\n",
    "\n",
    "\n",
    "    print(\"Sample mean: %0.3f +/- %0.3f\" % (mean, mean_conf))\n",
    "    print(\"95%% Confidence interval of sample variance : (%0.3f; %0.3f)\"\n",
    "          % (var_conf_left, var_conf_right))\n",
    "    print(\"95%% Confidence interval of sample standard deviation: (%0.3f; %0.3f)\"\n",
    "          % (std_conf_left, std_conf_right))"
   ]
  },
  {
   "cell_type": "code",
   "execution_count": 30,
   "metadata": {},
   "outputs": [
    {
     "name": "stdout",
     "output_type": "stream",
     "text": [
      "Average = 303, variance = 10, standard deviation = 3,\n",
      "median = 302, truncated mean 303, MAD = 4\n",
      "Sample mean: 303.661 +/- 0.157\n",
      "95% Confidence interval of sample variance : (10.059; 11.807)\n",
      "95% Confidence interval of sample standard deviation: (3.172; 3.436)\n"
     ]
    }
   ],
   "source": [
    "feat1_stats_dict = calculate_mvsm(top_4[0])\n",
    "std, var, mean = feat1_stats_dict[\"std\"], feat1_stats_dict[\"var\"], feat1_stats_dict[\"mean\"]\n",
    "norm_q95(std, var, mean, df_next)"
   ]
  },
  {
   "cell_type": "code",
   "execution_count": 31,
   "metadata": {},
   "outputs": [
    {
     "name": "stdout",
     "output_type": "stream",
     "text": [
      "Average = 295, variance = 2, standard deviation = 1,\n",
      "median = 295, truncated mean 295, MAD = 2\n",
      "Sample mean: 295.304 +/- 0.071\n",
      "95% Confidence interval of sample variance : (2.082; 2.443)\n",
      "95% Confidence interval of sample standard deviation: (1.443; 1.563)\n"
     ]
    }
   ],
   "source": [
    "feat2_stats_dict = calculate_mvsm(top_4[1])\n",
    "std, var, mean = feat2_stats_dict[\"std\"], feat2_stats_dict[\"var\"], feat2_stats_dict[\"mean\"]\n",
    "norm_q95(std, var, mean, df_next)"
   ]
  },
  {
   "cell_type": "code",
   "execution_count": 32,
   "metadata": {},
   "outputs": [
    {
     "name": "stdout",
     "output_type": "stream",
     "text": [
      "Average = 47, variance = 1864, standard deviation = 43,\n",
      "median = 41, truncated mean 42, MAD = 66\n",
      "Sample mean: 47.579 +/- 2.051\n",
      "95% Confidence interval of sample variance : (1723.693; 2023.237)\n",
      "95% Confidence interval of sample standard deviation: (41.517; 44.980)\n"
     ]
    }
   ],
   "source": [
    "feat3_stats_dict = calculate_mvsm(top_4[2])\n",
    "std, var, mean = feat3_stats_dict[\"std\"], feat3_stats_dict[\"var\"], feat3_stats_dict[\"mean\"]\n",
    "norm_q95(std, var, mean, df_next)"
   ]
  },
  {
   "cell_type": "code",
   "execution_count": 33,
   "metadata": {},
   "outputs": [
    {
     "name": "stdout",
     "output_type": "stream",
     "text": [
      "Average = 0, variance = 0, standard deviation = 0,\n",
      "median = 0, truncated mean 0, MAD = 0\n",
      "Sample mean: 0.206 +/- 0.004\n",
      "95% Confidence interval of sample variance : (0.005; 0.006)\n",
      "95% Confidence interval of sample standard deviation: (0.072; 0.078)\n"
     ]
    }
   ],
   "source": [
    "feat4_stats_dict = calculate_mvsm(top_4[3])\n",
    "std, var, mean = feat4_stats_dict[\"std\"], feat4_stats_dict[\"var\"], feat4_stats_dict[\"mean\"]\n",
    "norm_q95(std, var, mean, df_next)"
   ]
  },
  {
   "cell_type": "markdown",
   "metadata": {
    "id": "9F1ABAU_-PvZ"
   },
   "source": [
    "### Kernel Density Function"
   ]
  },
  {
   "cell_type": "code",
   "execution_count": 34,
   "metadata": {
    "colab": {
     "base_uri": "https://localhost:8080/",
     "height": 552
    },
    "id": "Fq6B-Bqwm6Q-",
    "outputId": "6f25b06e-b980-4c3c-ff98-641d433def1c"
   },
   "outputs": [
    {
     "data": {
      "image/png": "[encoded data removed]",
      "text/plain": [
       "<Figure size 720x576 with 1 Axes>"
      ]
     },
     "metadata": {
      "needs_background": "light"
     },
     "output_type": "display_data"
    }
   ],
   "source": [
    "def plot_histogram(index, ax=None):\n",
    "    #Plotting a histogram and kernel density estimate\n",
    "#     index = 0\n",
    "    plt.figure(figsize=(10, 8))\n",
    "\n",
    "    kernel = scipy.stats.gaussian_kde(df[top_4[index]])\n",
    "\n",
    "    min_Temprature, max_Temprature = df[top_4[index]].min(), df[top_4[index]].max()\n",
    "    x = np.linspace(min_Temprature, max_Temprature, len(df))\n",
    "    kde_values = kernel(x)\n",
    "\n",
    "    sns.distplot(df[top_4[index]], kde=False, norm_hist=True, label=top_4[index], bins=bins)\n",
    "    if ax is not None:\n",
    "        ax.plot(x, kde_values)\n",
    "        plt.ylabel('p')\n",
    "        plt.xlabel(top_4[index])\n",
    "        plt.legend()\n",
    "    else:\n",
    "        plt.plot(x, kde_values)\n",
    "        plt.ylabel('p')\n",
    "        plt.xlabel(top_4[index])\n",
    "        plt.legend()\n",
    "        plt.savefig(\"./images/\"+top_4[index]+\"_kde.png\")\n",
    "    \n",
    "\n",
    "    plt.show()\n",
    "    \n",
    "\n",
    "plot_histogram(0)\n"
   ]
  },
  {
   "cell_type": "code",
   "execution_count": 35,
   "metadata": {},
   "outputs": [
    {
     "name": "stderr",
     "output_type": "stream",
     "text": [
      "/home/shan/anaconda3/lib/python3.8/site-packages/seaborn/distributions.py:2551: FutureWarning: `distplot` is a deprecated function and will be removed in a future version. Please adapt your code to use either `displot` (a figure-level function with similar flexibility) or `histplot` (an axes-level function for histograms).\n",
      "  warnings.warn(msg, FutureWarning)\n"
     ]
    },
    {
     "data": {
      "image/png": "[encoded data removed]",
      "text/plain": [
       "<Figure size 720x576 with 1 Axes>"
      ]
     },
     "metadata": {
      "needs_background": "light"
     },
     "output_type": "display_data"
    }
   ],
   "source": [
    "plot_histogram(1)"
   ]
  },
  {
   "cell_type": "code",
   "execution_count": 36,
   "metadata": {},
   "outputs": [
    {
     "name": "stderr",
     "output_type": "stream",
     "text": [
      "/home/shan/anaconda3/lib/python3.8/site-packages/seaborn/distributions.py:2551: FutureWarning: `distplot` is a deprecated function and will be removed in a future version. Please adapt your code to use either `displot` (a figure-level function with similar flexibility) or `histplot` (an axes-level function for histograms).\n",
      "  warnings.warn(msg, FutureWarning)\n"
     ]
    },
    {
     "data": {
      "image/png": "[encoded data removed]",
      "text/plain": [
       "<Figure size 720x576 with 1 Axes>"
      ]
     },
     "metadata": {
      "needs_background": "light"
     },
     "output_type": "display_data"
    }
   ],
   "source": [
    "plot_histogram(2)"
   ]
  },
  {
   "cell_type": "code",
   "execution_count": 37,
   "metadata": {},
   "outputs": [
    {
     "name": "stderr",
     "output_type": "stream",
     "text": [
      "/home/shan/anaconda3/lib/python3.8/site-packages/seaborn/distributions.py:2551: FutureWarning: `distplot` is a deprecated function and will be removed in a future version. Please adapt your code to use either `displot` (a figure-level function with similar flexibility) or `histplot` (an axes-level function for histograms).\n",
      "  warnings.warn(msg, FutureWarning)\n"
     ]
    },
    {
     "data": {
      "image/png": "[encoded data removed]",
      "text/plain": [
       "<Figure size 720x576 with 1 Axes>"
      ]
     },
     "metadata": {
      "needs_background": "light"
     },
     "output_type": "display_data"
    }
   ],
   "source": [
    "plot_histogram(3)"
   ]
  },
  {
   "cell_type": "code",
   "execution_count": 38,
   "metadata": {},
   "outputs": [],
   "source": [
    "import pandas as pd\n",
    "from sklearn import preprocessing\n",
    "\n",
    "x = df[top_4].values #returns a numpy array\n",
    "min_max_scaler = preprocessing.MinMaxScaler()\n",
    "x_scaled = min_max_scaler.fit_transform(x)\n",
    "df = pd.DataFrame(x_scaled)"
   ]
  },
  {
   "cell_type": "code",
   "execution_count": 39,
   "metadata": {},
   "outputs": [
    {
     "name": "stdout",
     "output_type": "stream",
     "text": [
      "KstestResult(statistic=0.11171618326187771, pvalue=1.725920107253686e-13)\n",
      "CramerVonMisesResult(statistic=4.114120558590594, pvalue=2.5189672570036237e-10)\n",
      "Power_divergenceResult(statistic=54.104354022585696, pvalue=1.0)\n",
      "KstestResult(statistic=0.11171618326187771, pvalue=1.725920107253686e-13)\n"
     ]
    }
   ],
   "source": [
    "def perform_test(index):\n",
    "    # Determination of the parameters of the lognormal distribution of the average transaction value for currency 981 \n",
    "    x = np.linspace(np.min(df[index]), np.max(df[index]))\n",
    "\n",
    "    # The distribution parameters are determined using the fit function based on the maximum likelihood method\n",
    "    params = scipy.stats.lognorm.fit(df[index])\n",
    "#     pdf = scipy.stats.lognorm.pdf(x, *params)\n",
    "#     cdf = scipy.stats.lognorm.cdf(x, *params)\n",
    "    expon_dist = scipy.stats.lognorm(*params)\n",
    "    \n",
    "    # Calculation of the Kolmogorov-Smirnov test and chi-square\n",
    "    ks = scipy.stats.kstest(df[index], 'lognorm', params)\n",
    "    crv = scipy.stats.cramervonmises(df[index], expon_dist.cdf)\n",
    "    chi2 = scipy.stats.chisquare(df[index])\n",
    "    \n",
    "    t = scipy.stats.kstest(df[index], expon_dist.cdf)\n",
    "    print(ks)\n",
    "    print(crv)\n",
    "    print(chi2)\n",
    "    print(t)\n",
    "\n",
    "perform_test(1)"
   ]
  },
  {
   "cell_type": "markdown",
   "metadata": {},
   "source": [
    "### Quantiles"
   ]
  },
  {
   "cell_type": "code",
   "execution_count": 40,
   "metadata": {},
   "outputs": [
    {
     "data": {
      "text/plain": [
       "0.10    0.149351\n",
       "0.25    0.214286\n",
       "0.50    0.311688\n",
       "0.75    0.532468\n",
       "0.95    0.792208\n",
       "Name: 0, dtype: float64"
      ]
     },
     "execution_count": 40,
     "metadata": {},
     "output_type": "execute_result"
    }
   ],
   "source": [
    "df[0].quantile([.1, .25, .5, .75, .95])"
   ]
  },
  {
   "cell_type": "code",
   "execution_count": 41,
   "metadata": {},
   "outputs": [
    {
     "name": "stdout",
     "output_type": "stream",
     "text": [
      "Name: reanalysis_max_air_temp_k\n"
     ]
    },
    {
     "data": {
      "text/html": [
       "<div>\n",
       "<style scoped>\n",
       "    .dataframe tbody tr th:only-of-type {\n",
       "        vertical-align: middle;\n",
       "    }\n",
       "\n",
       "    .dataframe tbody tr th {\n",
       "        vertical-align: top;\n",
       "    }\n",
       "\n",
       "    .dataframe thead th {\n",
       "        text-align: right;\n",
       "    }\n",
       "</style>\n",
       "<table border=\"1\" class=\"dataframe\">\n",
       "  <thead>\n",
       "    <tr style=\"text-align: right;\">\n",
       "      <th></th>\n",
       "      <th>Value</th>\n",
       "    </tr>\n",
       "  </thead>\n",
       "  <tbody>\n",
       "    <tr>\n",
       "      <th>0.10</th>\n",
       "      <td>0.149351</td>\n",
       "    </tr>\n",
       "    <tr>\n",
       "      <th>0.25</th>\n",
       "      <td>0.214286</td>\n",
       "    </tr>\n",
       "    <tr>\n",
       "      <th>0.50</th>\n",
       "      <td>0.311688</td>\n",
       "    </tr>\n",
       "    <tr>\n",
       "      <th>0.75</th>\n",
       "      <td>0.532468</td>\n",
       "    </tr>\n",
       "    <tr>\n",
       "      <th>0.90</th>\n",
       "      <td>0.707792</td>\n",
       "    </tr>\n",
       "  </tbody>\n",
       "</table>\n",
       "</div>"
      ],
      "text/plain": [
       "         Value\n",
       "0.10  0.149351\n",
       "0.25  0.214286\n",
       "0.50  0.311688\n",
       "0.75  0.532468\n",
       "0.90  0.707792"
      ]
     },
     "execution_count": 41,
     "metadata": {},
     "output_type": "execute_result"
    }
   ],
   "source": [
    "# Let us estimate the main quantiles of this distribution.\n",
    "print(\"Name:\", top_4[0])\n",
    "pd.DataFrame(data={\"Value\": df[0].quantile([.1, .25, .5, .75, .9])}\n",
    "             )"
   ]
  },
  {
   "cell_type": "code",
   "execution_count": 42,
   "metadata": {},
   "outputs": [
    {
     "name": "stdout",
     "output_type": "stream",
     "text": [
      "Name: reanalysis_dew_point_temp_k\n"
     ]
    },
    {
     "data": {
      "text/plain": [
       "array([0.40236821, 0.51930251, 0.68580697, 0.77883212, 0.82452555])"
      ]
     },
     "execution_count": 42,
     "metadata": {},
     "output_type": "execute_result"
    }
   ],
   "source": [
    "# Let us estimate the main quantiles of this distribution.\n",
    "print(\"Name:\", top_4[1])\n",
    "pd.DataFrame(data={\"Value\": df[1].quantile([.1, .25, .5, .75, .9])}).to_numpy().flatten()"
   ]
  },
  {
   "cell_type": "code",
   "execution_count": 43,
   "metadata": {},
   "outputs": [
    {
     "data": {
      "text/plain": [
       "RangeIndex(start=0, stop=4, step=1)"
      ]
     },
     "execution_count": 43,
     "metadata": {},
     "output_type": "execute_result"
    }
   ],
   "source": [
    "df.columns"
   ]
  },
  {
   "cell_type": "markdown",
   "metadata": {
    "id": "DPz5G2BeparZ"
   },
   "source": [
    "### box with whiskers\n",
    "\n",
    "Box Plots\n",
    "\n",
    "The box plot is an excellent tool to visually represent descriptive statistics of a given dataset. It can show the range, interquartile range, median, mode, outliers, and all quartiles."
   ]
  },
  {
   "cell_type": "code",
   "execution_count": 44,
   "metadata": {},
   "outputs": [
    {
     "data": {
      "image/png": "[encoded data removed]",
      "text/plain": [
       "<Figure size 1044x612 with 1 Axes>"
      ]
     },
     "metadata": {
      "needs_background": "light"
     },
     "output_type": "display_data"
    }
   ],
   "source": [
    "fig, ax = plt.subplots()\n",
    "fig.set_size_inches(14.5, 8.5, forward=True)\n",
    "\n",
    "bp_list = []\n",
    "for i in range(len(top_4)):\n",
    "    bp = ax.boxplot((df[i]), positions=[i+1,], vert=False, notch=True, widths=0.35,\n",
    "               showmeans=True, meanline=True,\n",
    "               patch_artist=True,\n",
    "               medianprops={'linewidth': 3, 'color': 'black'},\n",
    "               meanprops={'linewidth': 2, 'color': 'red'}\n",
    "                    ,boxprops=dict(facecolor=\"C\"+str(i)))\n",
    "    bp_list.append(bp)\n",
    "\n",
    "l = [bp1[\"boxes\"][0] for bp1 in bp_list]\n",
    "ax.legend(l, top_4, loc='upper right')\n",
    "plt.savefig(\"./images/boxplot-combined.png\")\n",
    "plt.show()"
   ]
  },
  {
   "cell_type": "code",
   "execution_count": 45,
   "metadata": {},
   "outputs": [
    {
     "data": {
      "image/png": "[encoded data removed]",
      "text/plain": [
       "<Figure size 432x288 with 1 Axes>"
      ]
     },
     "metadata": {
      "needs_background": "light"
     },
     "output_type": "display_data"
    }
   ],
   "source": [
    "fig, ax = plt.subplots()\n",
    "# fig.set_size_inches(14.5, 8.5, forward=True)\n",
    "\n",
    "bp = ax.boxplot((df[0]), positions=[1,], vert=False, notch=True, widths=0.15,\n",
    "           showmeans=True, meanline=True,\n",
    "           patch_artist=True,\n",
    "           medianprops={'linewidth': 2, 'color': 'black'},\n",
    "           meanprops={'linewidth': 2, 'color': 'red'}\n",
    "                ,boxprops=dict(facecolor=\"C\"+str(0)))\n",
    "    \n",
    "# l = [bp1[\"boxes\"][0] for bp1 in bp_list]\n",
    "ax.legend([bp[\"boxes\"][0]], [top_4[0]], loc='upper right')\n",
    "plt.savefig(\"./images/\"+top_4[0]+\"_boxplot.png\")\n",
    "plt.show()"
   ]
  },
  {
   "cell_type": "markdown",
   "metadata": {},
   "source": [
    "**Explanation:**\n",
    "\n",
    "- The mean is the red dashed line.\n",
    "- The median is the Black line.\n",
    "- The first quartile is the left edge of the rectangle.\n",
    "- The third quartile is the right edge of the rectangle.\n",
    "- The interquartile range is the length of the rectangle.\n",
    "- The range contains everything from left to right.\n",
    "- The outliers are the dots to the left and right."
   ]
  },
  {
   "cell_type": "code",
   "execution_count": 46,
   "metadata": {},
   "outputs": [],
   "source": [
    "# conf_first_list = []\n",
    "# conf_second_list = []\n",
    "# for element1, element2 in zip(conf_first, conf_second):\n",
    "#     conf_first_list.append(element1[0])\n",
    "#     conf_second_list.append(element2[0])"
   ]
  },
  {
   "cell_type": "code",
   "execution_count": 47,
   "metadata": {},
   "outputs": [],
   "source": [
    "# # \n",
    "# plt.figure(figsize=(12, 12))\n",
    "\n",
    "# min_qn = np.min([qn_first.min(), qn_second.min()])\n",
    "# max_qn = np.max([qn_first.max(), qn_second.max()])\n",
    "# x = np.linspace(min_qn, max_qn)\n",
    "\n",
    "# plt.plot(qn_first, qn_second, ls=\"\", marker=\"o\", markersize=6)\n",
    "# plt.plot(x, x, color=\"k\", ls=\"--\")\n",
    "# # plt.xlabel(f'Temprature {curr_first}')\n",
    "# # plt.ylabel(f'Temprature {curr_second}')\n",
    "# # plt.xlim([min_qn, 400])\n",
    "# # plt.ylim([min_qn, 400])\n",
    "# plt.grid(True)\n",
    "\n",
    "# # \n",
    "# plt.errorbar(\n",
    "#     # [25%, 50%, 75%]\n",
    "#     [qn_first[5], qn_first[10], qn_first[15]],\n",
    "#     [qn_second[5], qn_second[10], qn_second[15]],\n",
    "#     xerr=conf_first_list,\n",
    "#     yerr=conf_second_list,\n",
    "#     ls='none',\n",
    "#     capsize=3,\n",
    "#     elinewidth=2\n",
    "# )\n",
    "\n",
    "# plt.title('QQ-plot')\n",
    "# plt.show()"
   ]
  },
  {
   "cell_type": "markdown",
   "metadata": {},
   "source": [
    "## Statistical tests"
   ]
  },
  {
   "cell_type": "code",
   "execution_count": 88,
   "metadata": {},
   "outputs": [
    {
     "name": "stdout",
     "output_type": "stream",
     "text": [
      "KstestResult(statistic=0.05778119579964225, pvalue=0.0006387501238157949)\n",
      "CramerVonMisesResult(statistic=0.8926917171556676, pvalue=0.004393910337985751)\n"
     ]
    }
   ],
   "source": [
    "def perform_test(index):\n",
    "    # Determination of the parameters of the lognormal distribution of the average transaction value for currency 981 \n",
    "#     x = np.linspace(np.min(df[index]), np.max(df[index]))\n",
    "\n",
    "    # The distribution parameters are determined using the fit function based on the maximum likelihood method\n",
    "    params = scipy.stats.lognorm.fit(df_next[top_4[index]])\n",
    "#     pdf = scipy.stats.lognorm.pdf(x, *params)\n",
    "#     cdf = scipy.stats.lognorm.cdf(x, *params)\n",
    "    expon_dist = scipy.stats.lognorm(*params)\n",
    "    \n",
    "    # Calculation of the Kolmogorov-Smirnov test and chi-square\n",
    "    ks = scipy.stats.kstest(df_next[top_4[index]], 'lognorm', params, N=100)\n",
    "    crv = scipy.stats.cramervonmises(df_next[top_4[index]], expon_dist.cdf)\n",
    "#     chi2 = scipy.stats.chisquare(df_next[top_4[index]])\n",
    "    print(ks)\n",
    "    print(crv)\n",
    "#     print(chi2)\n",
    "\n",
    "perform_test(0)"
   ]
  },
  {
   "cell_type": "code",
   "execution_count": 124,
   "metadata": {},
   "outputs": [
    {
     "data": {
      "text/plain": [
       "(0.4816181724602129, 296.7377290991063, 6.18280185554498)"
      ]
     },
     "execution_count": 124,
     "metadata": {},
     "output_type": "execute_result"
    }
   ],
   "source": [
    "params = scipy.stats.lognorm.fit(df_next[top_4[0]])\n",
    "params"
   ]
  },
  {
   "cell_type": "code",
   "execution_count": 49,
   "metadata": {},
   "outputs": [
    {
     "name": "stdout",
     "output_type": "stream",
     "text": [
      "KstestResult(statistic=0.05778119579964225, pvalue=0.0006387501238157949)\n",
      "CramerVonMisesResult(statistic=0.8926917171556676, pvalue=0.004393910337985751)\n"
     ]
    }
   ],
   "source": [
    "perform_test(0)  # feature at index 0"
   ]
  },
  {
   "cell_type": "code",
   "execution_count": 50,
   "metadata": {},
   "outputs": [
    {
     "name": "stdout",
     "output_type": "stream",
     "text": [
      "KstestResult(statistic=0.11354137224863436, pvalue=6.396657539450242e-14)\n",
      "CramerVonMisesResult(statistic=4.244295193965977, pvalue=1.3083956140746977e-10)\n"
     ]
    }
   ],
   "source": [
    "perform_test(1)  # feature at index 1"
   ]
  },
  {
   "cell_type": "code",
   "execution_count": 51,
   "metadata": {},
   "outputs": [
    {
     "name": "stdout",
     "output_type": "stream",
     "text": [
      "KstestResult(statistic=0.3355769359677564, pvalue=6.590330261538394e-121)\n",
      "CramerVonMisesResult(statistic=46.25847596508297, pvalue=1.6644336797710935e-08)\n"
     ]
    }
   ],
   "source": [
    "perform_test(2)  # feature at index 2"
   ]
  },
  {
   "cell_type": "code",
   "execution_count": 52,
   "metadata": {},
   "outputs": [
    {
     "name": "stdout",
     "output_type": "stream",
     "text": [
      "KstestResult(statistic=0.029535548535983502, pvalue=0.24165992608810127)\n",
      "CramerVonMisesResult(statistic=0.14074600671731222, pvalue=0.41909597388715003)\n"
     ]
    }
   ],
   "source": [
    "perform_test(3)  # feature at index 3"
   ]
  },
  {
   "cell_type": "markdown",
   "metadata": {},
   "source": [
    "## QQ"
   ]
  },
  {
   "cell_type": "code",
   "execution_count": 53,
   "metadata": {},
   "outputs": [],
   "source": [
    "def qq(index):\n",
    "    \n",
    "    x = np.linspace(np.min(df[index]), np.max(df[index]))\n",
    "\n",
    "    # The distribution parameters are determined using the fit function based on the maximum likelihood method\n",
    "    params = scipy.stats.lognorm.fit(df[index])\n",
    "    \n",
    "    # Plotting a quantile biplot for empirical and theoretical (lognormal) distribution\n",
    "\n",
    "    # Calculation of quantiles\n",
    "    percs = np.linspace(0, 100, 21)\n",
    "    qn_first = np.percentile(df[index], percs)\n",
    "    qn_lognorm = scipy.stats.lognorm.ppf(percs / 100.0, *params)\n",
    "\n",
    "    # Building a quantile biplot\n",
    "    plt.figure(figsize=(10, 10))\n",
    "    plt.plot(qn_first, qn_lognorm, ls=\"\", marker=\"o\", color='red', markersize=6, )\n",
    "    plt.plot(x, x, color=\"k\", ls=\"--\")\n",
    "    plt.xlabel(f'Empirical distribution')\n",
    "    plt.ylabel('Theoretical (lognormal) distribution')\n",
    "    plt.grid()\n",
    "    plt.show()"
   ]
  },
  {
   "cell_type": "code",
   "execution_count": 54,
   "metadata": {},
   "outputs": [
    {
     "data": {
      "image/png": "[encoded data removed]",
      "text/plain": [
       "<Figure size 720x720 with 1 Axes>"
      ]
     },
     "metadata": {
      "needs_background": "light"
     },
     "output_type": "display_data"
    }
   ],
   "source": [
    "qq(3)"
   ]
  },
  {
   "cell_type": "code",
   "execution_count": 55,
   "metadata": {},
   "outputs": [
    {
     "data": {
      "image/png": "[encoded data removed]",
      "text/plain": [
       "<Figure size 720x720 with 1 Axes>"
      ]
     },
     "metadata": {
      "needs_background": "light"
     },
     "output_type": "display_data"
    }
   ],
   "source": [
    "qq(1)"
   ]
  },
  {
   "cell_type": "code",
   "execution_count": 56,
   "metadata": {},
   "outputs": [
    {
     "data": {
      "image/png": "[encoded data removed]",
      "text/plain": [
       "<Figure size 720x720 with 1 Axes>"
      ]
     },
     "metadata": {
      "needs_background": "light"
     },
     "output_type": "display_data"
    }
   ],
   "source": [
    "qq(2)"
   ]
  },
  {
   "cell_type": "code",
   "execution_count": 57,
   "metadata": {},
   "outputs": [
    {
     "data": {
      "image/png": "[encoded data removed]",
      "text/plain": [
       "<Figure size 720x720 with 1 Axes>"
      ]
     },
     "metadata": {
      "needs_background": "light"
     },
     "output_type": "display_data"
    }
   ],
   "source": [
    "qq(0)"
   ]
  },
  {
   "cell_type": "code",
   "execution_count": 58,
   "metadata": {},
   "outputs": [],
   "source": [
    "from scipy import stats\n",
    "from collections import Counter\n",
    "import matplotlib.pyplot as plt\n",
    "import numpy as np\n",
    "import pandas as pd\n",
    "import seaborn as sns\n",
    "import scipy\n",
    "from scipy import stats\n",
    "from scipy.optimize import least_squares\n",
    "from statsmodels.distributions.empirical_distribution import ECDF"
   ]
  },
  {
   "cell_type": "markdown",
   "metadata": {},
   "source": [
    "## Maximum Likelihood and Least square"
   ]
  },
  {
   "cell_type": "code",
   "execution_count": 110,
   "metadata": {},
   "outputs": [
    {
     "name": "stdout",
     "output_type": "stream",
     "text": [
      "Maximum likelihood estimates: (0.0025274200334152452, -66.75804915158876, 67.40033232599362)\n"
     ]
    },
    {
     "name": "stderr",
     "output_type": "stream",
     "text": [
      "/home/shan/anaconda3/lib/python3.8/site-packages/seaborn/distributions.py:2551: FutureWarning: `distplot` is a deprecated function and will be removed in a future version. Please adapt your code to use either `displot` (a figure-level function with similar flexibility) or `histplot` (an axes-level function for histograms).\n",
      "  warnings.warn(msg, FutureWarning)\n"
     ]
    },
    {
     "data": {
      "text/plain": [
       "<matplotlib.legend.Legend at 0x7fb252011160>"
      ]
     },
     "execution_count": 110,
     "metadata": {},
     "output_type": "execute_result"
    },
    {
     "data": {
      "image/png": "[encoded data removed]",
      "text/plain": [
       "<Figure size 720x648 with 1 Axes>"
      ]
     },
     "metadata": {
      "needs_background": "light"
     },
     "output_type": "display_data"
    }
   ],
   "source": [
    "\n",
    "min_hum, maxhum = df[1].min(), df[1].max()\n",
    "x = np.linspace(min_hum, maxhum, len(df[1]))\n",
    "\n",
    "\n",
    "def loss_for_least_squares_lognorm(params):\n",
    "    q = np.linspace(0.01, 0.95)\n",
    "    quantiles = np.quantile(df[1], q)\n",
    "    quantiles_approx = scipy.stats.lognorm.ppf(q, *params)\n",
    "    return quantiles - quantiles_approx\n",
    "\n",
    "\n",
    "ml_estimates = stats.lognorm.fit(df[1])\n",
    "print(f\"Maximum likelihood estimates: {ml_estimates}\")\n",
    "\n",
    "args_ls2 = least_squares(loss_for_least_squares_lognorm, (1.0, 1.0, 1.0))['x']\n",
    "pdf_ls2 = scipy.stats.lognorm.pdf(x, *args_ls2)\n",
    "\n",
    "\n",
    "plt.figure(figsize=(10, 9))\n",
    "plt.title(\"Maximum Likelihood Vs Least Square\", size=14)\n",
    "sns.distplot(df[1], kde=False, norm_hist=True)\n",
    "xs = np.arange(0, 2, 0.01)\n",
    "plt.plot(xs, stats.lognorm.pdf(xs, *ml_estimates), \"--\")\n",
    "\n",
    "plt.plot(x, pdf_ls2, \"-\")\n",
    "plt.ylabel('density')\n",
    "plt.xlabel(top_4[1])\n",
    "plt.legend([\"Least Square estimation\", \"Maximum Likelihood estimation\"], prop={\"size\": 14})"
   ]
  },
  {
   "cell_type": "code",
   "execution_count": 132,
   "metadata": {},
   "outputs": [
    {
     "name": "stdout",
     "output_type": "stream",
     "text": [
      "(0.3027049640993176, 0.17362850861328252, 0.0033549663049087385)\n",
      "(0.18222590321298968, 0.502054104362305, 0.007002071260337153)\n",
      "(0.3252702843414396, 0.3018811615602803, 0.0027545912633422168)\n",
      "(0.18979884834625138, 0.729011384214609, 0.010240041642033713)\n"
     ]
    },
    {
     "data": {
      "image/png": "[encoded data removed]",
      "text/plain": [
       "<Figure size 432x288 with 1 Axes>"
      ]
     },
     "metadata": {
      "needs_background": "light"
     },
     "output_type": "display_data"
    }
   ],
   "source": [
    "import numpy as np\n",
    "import matplotlib.pyplot as plt\n",
    "from sklearn.mixture import GaussianMixture\n",
    "\n",
    "data = np.array(df[0])#np.loadtxt('file.txt') ##loading univariate data.\n",
    "\n",
    "gmm = GaussianMixture(n_components = 4).fit(data.reshape(-1, 1))\n",
    "\n",
    "plt.figure()\n",
    "plt.hist(data, bins=24, histtype='stepfilled', density=True, alpha=0.5)\n",
    "f_axis = data.copy().ravel()\n",
    "f_axis.sort()\n",
    "\n",
    "\n",
    "a = []\n",
    "for weight, mean, covar in zip(gmm.weights_, gmm.means_, gmm.covariances_):\n",
    "    print((weight, mean[0], covar[0][0]))\n",
    "    a.append(weight*scipy.stats.norm.pdf(f_axis, mean, np.sqrt(covar)).ravel())\n",
    "#     plt.plot(f_axis, a[-1])\n",
    "plt.plot(f_axis, np.array(a).sum(axis =0), 'k-')\n",
    "plt.title(\"Gaussian Mixture\")\n",
    "plt.xlabel(top_4[0])\n",
    "plt.ylabel('PDF')\n",
    "plt.tight_layout()\n",
    "plt.show()"
   ]
  },
  {
   "cell_type": "code",
   "execution_count": 135,
   "metadata": {},
   "outputs": [
    {
     "data": {
      "text/plain": [
       "KstestResult(statistic=0.9157366216545174, pvalue=0.0)"
      ]
     },
     "execution_count": 135,
     "metadata": {},
     "output_type": "execute_result"
    }
   ],
   "source": [
    "ks = scipy.stats.kstest(df[0], 'lognorm', (0.18979884834625138, 0.729011384214609, 0.010240041642033713), N=100)\n",
    "ks"
   ]
  },
  {
   "cell_type": "code",
   "execution_count": 106,
   "metadata": {},
   "outputs": [],
   "source": [
    "# Fit a Gaussian mixture with EM using five components\n",
    "# gmm = mixture.GaussianMixture(n_components=5, covariance_type='full').fit(X)\n"
   ]
  },
  {
   "cell_type": "code",
   "execution_count": 107,
   "metadata": {},
   "outputs": [
    {
     "data": {
      "text/plain": [
       "array([[[0.04584149]]])"
      ]
     },
     "execution_count": 107,
     "metadata": {},
     "output_type": "execute_result"
    }
   ],
   "source": [
    "gmm.covariances_"
   ]
  },
  {
   "cell_type": "code",
   "execution_count": 108,
   "metadata": {},
   "outputs": [
    {
     "data": {
      "text/plain": [
       "array([[0.38060397]])"
      ]
     },
     "execution_count": 108,
     "metadata": {},
     "output_type": "execute_result"
    }
   ],
   "source": [
    "gmm.means_"
   ]
  },
  {
   "cell_type": "code",
   "execution_count": 74,
   "metadata": {},
   "outputs": [],
   "source": [
    "# import pygmmis\n",
    "# gmm = pygmmis.GMM(K=1, D=1)      # K components, D dimensions\n",
    "# logL, U = pygmmis.fit(gmm, x) # logL = log-likelihood, U = association of data to components"
   ]
  },
  {
   "cell_type": "markdown",
   "metadata": {},
   "source": [
    "## Theoretical Distribution Comparison"
   ]
  },
  {
   "cell_type": "code",
   "execution_count": 66,
   "metadata": {},
   "outputs": [],
   "source": [
    "import numpy as np\n",
    "import pandas as pd\n",
    "import scipy.stats as st\n",
    "import statsmodels.api as sm\n",
    "import matplotlib as mpl\n",
    "import matplotlib.pyplot as plt\n",
    "import math\n",
    "import random\n",
    "\n",
    "mpl.style.use(\"ggplot\")\n",
    "dist_names = ['gamma', 'lognorm', 'norm', 'gausshyper']\n",
    "def danoes_formula(data):\n",
    "    \"\"\"\n",
    "    DANOE'S FORMULA\n",
    "    https://en.wikipedia.org/wiki/Histogram#Doane's_formula\n",
    "    \"\"\"\n",
    "    N = len(data)\n",
    "    skewness = st.skew(data)\n",
    "    sigma_g1 = math.sqrt((6*(N-2))/((N+1)*(N+3)))\n",
    "    num_bins = 1 + math.log(N,2) + math.log(1+abs(skewness)/sigma_g1,2)\n",
    "    num_bins = round(num_bins)\n",
    "    return num_bins\n",
    "\n",
    "def plot_histogram(data, results):\n",
    "    ## n first distribution of the ranking\n",
    "    N_DISTRIBUTIONS = {k: results[k] for k in list(results)}\n",
    "\n",
    "    ## Histogram of data\n",
    "    plt.figure(figsize=(10, 5))\n",
    "    plt.hist(data, density=True, ec='white', color=(63/235, 149/235, 170/235))\n",
    "    plt.title('HISTOGRAM')\n",
    "    plt.xlabel('Values')\n",
    "    plt.ylabel('Frequencies')\n",
    "    \n",
    "    c = [\"red\", \"green\", \"blue\", \"yellow\", \"orange\", \"pink\", \"black\", \"silver\"]\n",
    "    i = 0\n",
    "    ## Plot n distributions\n",
    "    for dist_name, result in N_DISTRIBUTIONS.items():\n",
    "        # print(i, distribution)\n",
    "        sse = result[0]\n",
    "        arg = result[1]\n",
    "        loc = result[2]\n",
    "        scale = result[3]\n",
    "        distribution = result[4]\n",
    "        x_plot = np.linspace(min(data), max(data), 1000)\n",
    "        y_plot = distribution.pdf(x_plot, loc=loc, scale=scale, *arg)\n",
    "#         plt.plot(x_plot, y_plot, label=str(distribution) + \": \" + str(sse)[0:6], color=(random.uniform(0, 1), random.uniform(0, 1), random.uniform(0, 1)))\n",
    "        plt.plot(x_plot, y_plot, label=str(dist_name) + \": \" + str(sse)[0:6], color=c[i])\n",
    "        i += 1\n",
    "    plt.legend(title='DISTRIBUTIONS', bbox_to_anchor=(1.05, 1), loc='upper left')\n",
    "    plt.show()\n",
    "\n",
    "def fit_data(data):\n",
    "    ## st.frechet_r,st.frechet_l: are disbled in current SciPy version\n",
    "    ## st.levy_stable: a lot of time of estimation parameters\n",
    "    ALL_DISTRIBUTIONS = [        \n",
    "        st.alpha,st.anglit,st.arcsine,st.beta,st.betaprime,st.bradford,st.burr,st.cauchy,st.chi,st.chi2,st.cosine,\n",
    "        st.dgamma,st.dweibull,st.erlang,st.expon,st.exponnorm,st.exponweib,st.exponpow,st.f,st.fatiguelife,st.fisk,\n",
    "        st.foldcauchy,st.foldnorm, st.genlogistic,st.genpareto,st.gennorm,st.genexpon,\n",
    "        st.genextreme,st.gausshyper,st.gamma,st.gengamma,st.genhalflogistic,st.gilbrat,st.gompertz,st.gumbel_r,\n",
    "        st.gumbel_l,st.halfcauchy,st.halflogistic,st.halfnorm,st.halfgennorm,st.hypsecant,st.invgamma,st.invgauss,\n",
    "        st.invweibull,st.johnsonsb,st.johnsonsu,st.ksone,st.kstwobign,st.laplace,st.levy,st.levy_l,\n",
    "        st.logistic,st.loggamma,st.loglaplace,st.lognorm,st.lomax,st.maxwell,st.mielke,st.nakagami,st.ncx2,st.ncf,\n",
    "        st.nct,st.norm,st.pareto,st.pearson3,st.powerlaw,st.powerlognorm,st.powernorm,st.rdist,st.reciprocal,\n",
    "        st.rayleigh,st.rice,st.recipinvgauss,st.semicircular,st.t,st.triang,st.truncexpon,st.truncnorm,st.tukeylambda,\n",
    "        st.uniform,st.vonmises,st.vonmises_line,st.wald,st.weibull_min,st.weibull_max,st.wrapcauchy\n",
    "    ]\n",
    "    \n",
    "#     MY_DISTRIBUTIONS = [st.gamma, st.expon, st.norm, st.gausshyper]\n",
    "    MY_DISTRIBUTIONS = [st.gamma, st.lognorm, st.norm, st.gausshyper]\n",
    "    \n",
    "    \n",
    "\n",
    "    ## Calculae Histogram\n",
    "    num_bins = 24#danoes_formula(data)\n",
    "    frequencies, bin_edges = np.histogram(data, num_bins, density=True)\n",
    "    central_values = [(bin_edges[i] + bin_edges[i+1])/2 for i in range(len(bin_edges)-1)]\n",
    "\n",
    "    results = {}\n",
    "    index = 0\n",
    "    for distribution in MY_DISTRIBUTIONS:\n",
    "        ## Get parameters of distribution\n",
    "        params = distribution.fit(data)\n",
    "        \n",
    "        ## Separate parts of parameters\n",
    "        arg = params[:-2]\n",
    "        loc = params[-2]\n",
    "        scale = params[-1]\n",
    "    \n",
    "        ## Calculate fitted PDF and error with fit in distribution\n",
    "        pdf_values = [distribution.pdf(c, loc=loc, scale=scale, *arg) for c in central_values]\n",
    "        \n",
    "        ## Calculate SSE (sum of squared estimate of errors)\n",
    "        sse = np.sum(np.power(frequencies - pdf_values, 2.0))\n",
    "        \n",
    "        ## Build results and sort by sse\n",
    "        results[dist_names[index]] = [sse, arg, loc, scale, distribution]\n",
    "        index += 1\n",
    "        \n",
    "    results = {k: results[k] for k in sorted(results, key=results.get)}\n",
    "    return results"
   ]
  },
  {
   "cell_type": "code",
   "execution_count": 67,
   "metadata": {},
   "outputs": [
    {
     "data": {
      "image/png": "[encoded data removed]",
      "text/plain": [
       "<Figure size 720x360 with 1 Axes>"
      ]
     },
     "metadata": {},
     "output_type": "display_data"
    }
   ],
   "source": [
    "        \n",
    "data = df[0]\n",
    "results = fit_data(data)\n",
    "plot_histogram(data, results)"
   ]
  },
  {
   "cell_type": "code",
   "execution_count": 68,
   "metadata": {},
   "outputs": [
    {
     "name": "stderr",
     "output_type": "stream",
     "text": [
      "/home/shan/anaconda3/lib/python3.8/site-packages/scipy/stats/_continuous_distns.py:3342: RuntimeWarning: divide by zero encountered in double_scalars\n",
      "  return 1.0/Cinv * x**(a-1.0) * (1.0-x)**(b-1.0) / (1.0+z*x)**c\n",
      "/home/shan/anaconda3/lib/python3.8/site-packages/scipy/stats/_continuous_distns.py:3341: RuntimeWarning: invalid value encountered in double_scalars\n",
      "  Cinv = sc.gamma(a)*sc.gamma(b)/sc.gamma(a+b)*sc.hyp2f1(c, a, a+b, -z)\n"
     ]
    },
    {
     "data": {
      "image/png": "[encoded data removed]",
      "text/plain": [
       "<Figure size 720x360 with 1 Axes>"
      ]
     },
     "metadata": {},
     "output_type": "display_data"
    }
   ],
   "source": [
    "        \n",
    "data = df[1]\n",
    "results = fit_data(data)\n",
    "plot_histogram(data, results)"
   ]
  }
 ],
 "metadata": {
  "colab": {
   "collapsed_sections": [],
   "name": "Untitled18.ipynb",
   "provenance": []
  },
  "kernelspec": {
   "display_name": "Python 3",
   "language": "python",
   "name": "python3"
  },
  "language_info": {
   "codemirror_mode": {
    "name": "ipython",
    "version": 3
   },
   "file_extension": ".py",
   "mimetype": "text/x-python",
   "name": "python",
   "nbconvert_exporter": "python",
   "pygments_lexer": "ipython3",
   "version": "3.8.5"
  }
 },
 "nbformat": 4,
 "nbformat_minor": 1
}
